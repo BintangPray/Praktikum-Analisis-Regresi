{
  "nbformat": 4,
  "nbformat_minor": 0,
  "metadata": {
    "colab": {
      "provenance": []
    },
    "kernelspec": {
      "name": "python3",
      "display_name": "Python 3"
    },
    "language_info": {
      "name": "python"
    }
  },
  "cells": [
    {
      "cell_type": "markdown",
      "source": [
        "# **1. *Import Library***"
      ],
      "metadata": {
        "id": "4-o3gkL21jHs"
      }
    },
    {
      "cell_type": "code",
      "execution_count": 36,
      "metadata": {
        "id": "bRdSvomX1P2B"
      },
      "outputs": [],
      "source": [
        "import pandas as pd #untuk manipulasi dan analisis data dalam Data Frame\n",
        "import numpy as np #untuk komputasi numerik, terutama dalam vektor dan matriks\n",
        "import statsmodels.api as sm #untuk analisis statistik berupa model regresi\n",
        "import matplotlib.pyplot as plt #untuk visualisasi data dalam bentuk grafis\n",
        "import scipy.stats as stats #untuk komputasi ilmiah dan statistik seperti uji t, F, dll"
      ]
    },
    {
      "cell_type": "markdown",
      "source": [
        "# **2. Data**"
      ],
      "metadata": {
        "id": "0Uj92NKO2P_2"
      }
    },
    {
      "cell_type": "markdown",
      "source": [
        "## **a. Membaca Data**"
      ],
      "metadata": {
        "id": "xdLYBSRZ2VUQ"
      }
    },
    {
      "cell_type": "markdown",
      "source": [
        "Jangan lupa untuk upload *file data* terlebih dahulu dan mengganti alamat data (*path*) yang sesuai. Jika *file* berupa csv, gunakan fungsi `pd.read_csv()`"
      ],
      "metadata": {
        "id": "leGSW3z82dJS"
      }
    },
    {
      "cell_type": "code",
      "source": [
        "data = pd.read_excel(\"Data Bintang.xlsx\", sheet_name=\"Data\")\n",
        "data.head()"
      ],
      "metadata": {
        "colab": {
          "base_uri": "https://localhost:8080/",
          "height": 206
        },
        "id": "d2I40Zj02Xzo",
        "outputId": "cdd37621-8c61-4fd9-d016-a9d3c7c4b2dd"
      },
      "execution_count": 37,
      "outputs": [
        {
          "output_type": "execute_result",
          "data": {
            "text/plain": [
              "                Wilayah    PPM    IPM   RLS      JP    PBH   TBS    ASL   TPT  \\\n",
              "0           Sumba Barat  27.17  65.22  6.92  152414  11.90  0.39  58.83  3.52   \n",
              "1           Sumba Timur  28.08  67.05  7.57  255498   5.87  0.30  61.81  2.21   \n",
              "2                Kupang  21.78  65.82  7.42  376837   6.17  1.18  76.42  3.22   \n",
              "3  Timor Tengah Selatan  25.18  63.58  6.97  474521   7.71  1.03  67.93  2.64   \n",
              "4    Timor Tengah Utara  21.85  65.16  8.16  271277   3.98  0.45  80.56  1.96   \n",
              "\n",
              "    PDRB    JSM    UHH   LLR    PKB  \n",
              "0  10199  12696  67.57  3.93  82.84  \n",
              "1  16617  36053  65.82  2.02  68.79  \n",
              "2  13793  59622  65.64  4.20  72.78  \n",
              "3  10953  57201  66.89  2.09  83.83  \n",
              "4  11511  42634  67.61  1.20  77.65  "
            ],
            "text/html": [
              "\n",
              "  <div id=\"df-3f8432cd-a461-44a9-aa72-39a2edf8ea0d\" class=\"colab-df-container\">\n",
              "    <div>\n",
              "<style scoped>\n",
              "    .dataframe tbody tr th:only-of-type {\n",
              "        vertical-align: middle;\n",
              "    }\n",
              "\n",
              "    .dataframe tbody tr th {\n",
              "        vertical-align: top;\n",
              "    }\n",
              "\n",
              "    .dataframe thead th {\n",
              "        text-align: right;\n",
              "    }\n",
              "</style>\n",
              "<table border=\"1\" class=\"dataframe\">\n",
              "  <thead>\n",
              "    <tr style=\"text-align: right;\">\n",
              "      <th></th>\n",
              "      <th>Wilayah</th>\n",
              "      <th>PPM</th>\n",
              "      <th>IPM</th>\n",
              "      <th>RLS</th>\n",
              "      <th>JP</th>\n",
              "      <th>PBH</th>\n",
              "      <th>TBS</th>\n",
              "      <th>ASL</th>\n",
              "      <th>TPT</th>\n",
              "      <th>PDRB</th>\n",
              "      <th>JSM</th>\n",
              "      <th>UHH</th>\n",
              "      <th>LLR</th>\n",
              "      <th>PKB</th>\n",
              "    </tr>\n",
              "  </thead>\n",
              "  <tbody>\n",
              "    <tr>\n",
              "      <th>0</th>\n",
              "      <td>Sumba Barat</td>\n",
              "      <td>27.17</td>\n",
              "      <td>65.22</td>\n",
              "      <td>6.92</td>\n",
              "      <td>152414</td>\n",
              "      <td>11.90</td>\n",
              "      <td>0.39</td>\n",
              "      <td>58.83</td>\n",
              "      <td>3.52</td>\n",
              "      <td>10199</td>\n",
              "      <td>12696</td>\n",
              "      <td>67.57</td>\n",
              "      <td>3.93</td>\n",
              "      <td>82.84</td>\n",
              "    </tr>\n",
              "    <tr>\n",
              "      <th>1</th>\n",
              "      <td>Sumba Timur</td>\n",
              "      <td>28.08</td>\n",
              "      <td>67.05</td>\n",
              "      <td>7.57</td>\n",
              "      <td>255498</td>\n",
              "      <td>5.87</td>\n",
              "      <td>0.30</td>\n",
              "      <td>61.81</td>\n",
              "      <td>2.21</td>\n",
              "      <td>16617</td>\n",
              "      <td>36053</td>\n",
              "      <td>65.82</td>\n",
              "      <td>2.02</td>\n",
              "      <td>68.79</td>\n",
              "    </tr>\n",
              "    <tr>\n",
              "      <th>2</th>\n",
              "      <td>Kupang</td>\n",
              "      <td>21.78</td>\n",
              "      <td>65.82</td>\n",
              "      <td>7.42</td>\n",
              "      <td>376837</td>\n",
              "      <td>6.17</td>\n",
              "      <td>1.18</td>\n",
              "      <td>76.42</td>\n",
              "      <td>3.22</td>\n",
              "      <td>13793</td>\n",
              "      <td>59622</td>\n",
              "      <td>65.64</td>\n",
              "      <td>4.20</td>\n",
              "      <td>72.78</td>\n",
              "    </tr>\n",
              "    <tr>\n",
              "      <th>3</th>\n",
              "      <td>Timor Tengah Selatan</td>\n",
              "      <td>25.18</td>\n",
              "      <td>63.58</td>\n",
              "      <td>6.97</td>\n",
              "      <td>474521</td>\n",
              "      <td>7.71</td>\n",
              "      <td>1.03</td>\n",
              "      <td>67.93</td>\n",
              "      <td>2.64</td>\n",
              "      <td>10953</td>\n",
              "      <td>57201</td>\n",
              "      <td>66.89</td>\n",
              "      <td>2.09</td>\n",
              "      <td>83.83</td>\n",
              "    </tr>\n",
              "    <tr>\n",
              "      <th>4</th>\n",
              "      <td>Timor Tengah Utara</td>\n",
              "      <td>21.85</td>\n",
              "      <td>65.16</td>\n",
              "      <td>8.16</td>\n",
              "      <td>271277</td>\n",
              "      <td>3.98</td>\n",
              "      <td>0.45</td>\n",
              "      <td>80.56</td>\n",
              "      <td>1.96</td>\n",
              "      <td>11511</td>\n",
              "      <td>42634</td>\n",
              "      <td>67.61</td>\n",
              "      <td>1.20</td>\n",
              "      <td>77.65</td>\n",
              "    </tr>\n",
              "  </tbody>\n",
              "</table>\n",
              "</div>\n",
              "    <div class=\"colab-df-buttons\">\n",
              "\n",
              "  <div class=\"colab-df-container\">\n",
              "    <button class=\"colab-df-convert\" onclick=\"convertToInteractive('df-3f8432cd-a461-44a9-aa72-39a2edf8ea0d')\"\n",
              "            title=\"Convert this dataframe to an interactive table.\"\n",
              "            style=\"display:none;\">\n",
              "\n",
              "  <svg xmlns=\"http://www.w3.org/2000/svg\" height=\"24px\" viewBox=\"0 -960 960 960\">\n",
              "    <path d=\"M120-120v-720h720v720H120Zm60-500h600v-160H180v160Zm220 220h160v-160H400v160Zm0 220h160v-160H400v160ZM180-400h160v-160H180v160Zm440 0h160v-160H620v160ZM180-180h160v-160H180v160Zm440 0h160v-160H620v160Z\"/>\n",
              "  </svg>\n",
              "    </button>\n",
              "\n",
              "  <style>\n",
              "    .colab-df-container {\n",
              "      display:flex;\n",
              "      gap: 12px;\n",
              "    }\n",
              "\n",
              "    .colab-df-convert {\n",
              "      background-color: #E8F0FE;\n",
              "      border: none;\n",
              "      border-radius: 50%;\n",
              "      cursor: pointer;\n",
              "      display: none;\n",
              "      fill: #1967D2;\n",
              "      height: 32px;\n",
              "      padding: 0 0 0 0;\n",
              "      width: 32px;\n",
              "    }\n",
              "\n",
              "    .colab-df-convert:hover {\n",
              "      background-color: #E2EBFA;\n",
              "      box-shadow: 0px 1px 2px rgba(60, 64, 67, 0.3), 0px 1px 3px 1px rgba(60, 64, 67, 0.15);\n",
              "      fill: #174EA6;\n",
              "    }\n",
              "\n",
              "    .colab-df-buttons div {\n",
              "      margin-bottom: 4px;\n",
              "    }\n",
              "\n",
              "    [theme=dark] .colab-df-convert {\n",
              "      background-color: #3B4455;\n",
              "      fill: #D2E3FC;\n",
              "    }\n",
              "\n",
              "    [theme=dark] .colab-df-convert:hover {\n",
              "      background-color: #434B5C;\n",
              "      box-shadow: 0px 1px 3px 1px rgba(0, 0, 0, 0.15);\n",
              "      filter: drop-shadow(0px 1px 2px rgba(0, 0, 0, 0.3));\n",
              "      fill: #FFFFFF;\n",
              "    }\n",
              "  </style>\n",
              "\n",
              "    <script>\n",
              "      const buttonEl =\n",
              "        document.querySelector('#df-3f8432cd-a461-44a9-aa72-39a2edf8ea0d button.colab-df-convert');\n",
              "      buttonEl.style.display =\n",
              "        google.colab.kernel.accessAllowed ? 'block' : 'none';\n",
              "\n",
              "      async function convertToInteractive(key) {\n",
              "        const element = document.querySelector('#df-3f8432cd-a461-44a9-aa72-39a2edf8ea0d');\n",
              "        const dataTable =\n",
              "          await google.colab.kernel.invokeFunction('convertToInteractive',\n",
              "                                                    [key], {});\n",
              "        if (!dataTable) return;\n",
              "\n",
              "        const docLinkHtml = 'Like what you see? Visit the ' +\n",
              "          '<a target=\"_blank\" href=https://colab.research.google.com/notebooks/data_table.ipynb>data table notebook</a>'\n",
              "          + ' to learn more about interactive tables.';\n",
              "        element.innerHTML = '';\n",
              "        dataTable['output_type'] = 'display_data';\n",
              "        await google.colab.output.renderOutput(dataTable, element);\n",
              "        const docLink = document.createElement('div');\n",
              "        docLink.innerHTML = docLinkHtml;\n",
              "        element.appendChild(docLink);\n",
              "      }\n",
              "    </script>\n",
              "  </div>\n",
              "\n",
              "\n",
              "<div id=\"df-d233942d-927c-4f7c-8328-43cb79ab06d3\">\n",
              "  <button class=\"colab-df-quickchart\" onclick=\"quickchart('df-d233942d-927c-4f7c-8328-43cb79ab06d3')\"\n",
              "            title=\"Suggest charts\"\n",
              "            style=\"display:none;\">\n",
              "\n",
              "<svg xmlns=\"http://www.w3.org/2000/svg\" height=\"24px\"viewBox=\"0 0 24 24\"\n",
              "     width=\"24px\">\n",
              "    <g>\n",
              "        <path d=\"M19 3H5c-1.1 0-2 .9-2 2v14c0 1.1.9 2 2 2h14c1.1 0 2-.9 2-2V5c0-1.1-.9-2-2-2zM9 17H7v-7h2v7zm4 0h-2V7h2v10zm4 0h-2v-4h2v4z\"/>\n",
              "    </g>\n",
              "</svg>\n",
              "  </button>\n",
              "\n",
              "<style>\n",
              "  .colab-df-quickchart {\n",
              "      --bg-color: #E8F0FE;\n",
              "      --fill-color: #1967D2;\n",
              "      --hover-bg-color: #E2EBFA;\n",
              "      --hover-fill-color: #174EA6;\n",
              "      --disabled-fill-color: #AAA;\n",
              "      --disabled-bg-color: #DDD;\n",
              "  }\n",
              "\n",
              "  [theme=dark] .colab-df-quickchart {\n",
              "      --bg-color: #3B4455;\n",
              "      --fill-color: #D2E3FC;\n",
              "      --hover-bg-color: #434B5C;\n",
              "      --hover-fill-color: #FFFFFF;\n",
              "      --disabled-bg-color: #3B4455;\n",
              "      --disabled-fill-color: #666;\n",
              "  }\n",
              "\n",
              "  .colab-df-quickchart {\n",
              "    background-color: var(--bg-color);\n",
              "    border: none;\n",
              "    border-radius: 50%;\n",
              "    cursor: pointer;\n",
              "    display: none;\n",
              "    fill: var(--fill-color);\n",
              "    height: 32px;\n",
              "    padding: 0;\n",
              "    width: 32px;\n",
              "  }\n",
              "\n",
              "  .colab-df-quickchart:hover {\n",
              "    background-color: var(--hover-bg-color);\n",
              "    box-shadow: 0 1px 2px rgba(60, 64, 67, 0.3), 0 1px 3px 1px rgba(60, 64, 67, 0.15);\n",
              "    fill: var(--button-hover-fill-color);\n",
              "  }\n",
              "\n",
              "  .colab-df-quickchart-complete:disabled,\n",
              "  .colab-df-quickchart-complete:disabled:hover {\n",
              "    background-color: var(--disabled-bg-color);\n",
              "    fill: var(--disabled-fill-color);\n",
              "    box-shadow: none;\n",
              "  }\n",
              "\n",
              "  .colab-df-spinner {\n",
              "    border: 2px solid var(--fill-color);\n",
              "    border-color: transparent;\n",
              "    border-bottom-color: var(--fill-color);\n",
              "    animation:\n",
              "      spin 1s steps(1) infinite;\n",
              "  }\n",
              "\n",
              "  @keyframes spin {\n",
              "    0% {\n",
              "      border-color: transparent;\n",
              "      border-bottom-color: var(--fill-color);\n",
              "      border-left-color: var(--fill-color);\n",
              "    }\n",
              "    20% {\n",
              "      border-color: transparent;\n",
              "      border-left-color: var(--fill-color);\n",
              "      border-top-color: var(--fill-color);\n",
              "    }\n",
              "    30% {\n",
              "      border-color: transparent;\n",
              "      border-left-color: var(--fill-color);\n",
              "      border-top-color: var(--fill-color);\n",
              "      border-right-color: var(--fill-color);\n",
              "    }\n",
              "    40% {\n",
              "      border-color: transparent;\n",
              "      border-right-color: var(--fill-color);\n",
              "      border-top-color: var(--fill-color);\n",
              "    }\n",
              "    60% {\n",
              "      border-color: transparent;\n",
              "      border-right-color: var(--fill-color);\n",
              "    }\n",
              "    80% {\n",
              "      border-color: transparent;\n",
              "      border-right-color: var(--fill-color);\n",
              "      border-bottom-color: var(--fill-color);\n",
              "    }\n",
              "    90% {\n",
              "      border-color: transparent;\n",
              "      border-bottom-color: var(--fill-color);\n",
              "    }\n",
              "  }\n",
              "</style>\n",
              "\n",
              "  <script>\n",
              "    async function quickchart(key) {\n",
              "      const quickchartButtonEl =\n",
              "        document.querySelector('#' + key + ' button');\n",
              "      quickchartButtonEl.disabled = true;  // To prevent multiple clicks.\n",
              "      quickchartButtonEl.classList.add('colab-df-spinner');\n",
              "      try {\n",
              "        const charts = await google.colab.kernel.invokeFunction(\n",
              "            'suggestCharts', [key], {});\n",
              "      } catch (error) {\n",
              "        console.error('Error during call to suggestCharts:', error);\n",
              "      }\n",
              "      quickchartButtonEl.classList.remove('colab-df-spinner');\n",
              "      quickchartButtonEl.classList.add('colab-df-quickchart-complete');\n",
              "    }\n",
              "    (() => {\n",
              "      let quickchartButtonEl =\n",
              "        document.querySelector('#df-d233942d-927c-4f7c-8328-43cb79ab06d3 button');\n",
              "      quickchartButtonEl.style.display =\n",
              "        google.colab.kernel.accessAllowed ? 'block' : 'none';\n",
              "    })();\n",
              "  </script>\n",
              "</div>\n",
              "\n",
              "    </div>\n",
              "  </div>\n"
            ],
            "application/vnd.google.colaboratory.intrinsic+json": {
              "type": "dataframe",
              "variable_name": "data",
              "summary": "{\n  \"name\": \"data\",\n  \"rows\": 22,\n  \"fields\": [\n    {\n      \"column\": \"Wilayah\",\n      \"properties\": {\n        \"dtype\": \"string\",\n        \"num_unique_values\": 22,\n        \"samples\": [\n          \"Sumba Barat\",\n          \"Rote Ndao\",\n          \"Flores Timur\"\n        ],\n        \"semantic_type\": \"\",\n        \"description\": \"\"\n      }\n    },\n    {\n      \"column\": \"PPM\",\n      \"properties\": {\n        \"dtype\": \"number\",\n        \"std\": 6.764347538310522,\n        \"min\": 8.61,\n        \"max\": 31.78,\n        \"num_unique_values\": 22,\n        \"samples\": [\n          27.17,\n          27.05,\n          11.77\n        ],\n        \"semantic_type\": \"\",\n        \"description\": \"\"\n      }\n    },\n    {\n      \"column\": \"IPM\",\n      \"properties\": {\n        \"dtype\": \"number\",\n        \"std\": 4.0359307492803955,\n        \"min\": 58.89,\n        \"max\": 80.62,\n        \"num_unique_values\": 22,\n        \"samples\": [\n          65.22,\n          64.0,\n          65.79\n        ],\n        \"semantic_type\": \"\",\n        \"description\": \"\"\n      }\n    },\n    {\n      \"column\": \"RLS\",\n      \"properties\": {\n        \"dtype\": \"number\",\n        \"std\": 1.0480619095424497,\n        \"min\": 6.38,\n        \"max\": 11.62,\n        \"num_unique_values\": 21,\n        \"samples\": [\n          6.92,\n          8.14,\n          7.0\n        ],\n        \"semantic_type\": \"\",\n        \"description\": \"\"\n      }\n    },\n    {\n      \"column\": \"JP\",\n      \"properties\": {\n        \"dtype\": \"number\",\n        \"std\": 105960,\n        \"min\": 90521,\n        \"max\": 474521,\n        \"num_unique_values\": 22,\n        \"samples\": [\n          152414,\n          150521,\n          288310\n        ],\n        \"semantic_type\": \"\",\n        \"description\": \"\"\n      }\n    },\n    {\n      \"column\": \"PBH\",\n      \"properties\": {\n        \"dtype\": \"number\",\n        \"std\": 3.6260193968960874,\n        \"min\": 0.76,\n        \"max\": 13.39,\n        \"num_unique_values\": 22,\n        \"samples\": [\n          11.9,\n          3.9,\n          3.69\n        ],\n        \"semantic_type\": \"\",\n        \"description\": \"\"\n      }\n    },\n    {\n      \"column\": \"TBS\",\n      \"properties\": {\n        \"dtype\": \"number\",\n        \"std\": 0.3536684680338145,\n        \"min\": 0.0,\n        \"max\": 1.2,\n        \"num_unique_values\": 20,\n        \"samples\": [\n          0.39,\n          0.18,\n          0.87\n        ],\n        \"semantic_type\": \"\",\n        \"description\": \"\"\n      }\n    },\n    {\n      \"column\": \"ASL\",\n      \"properties\": {\n        \"dtype\": \"number\",\n        \"std\": 13.391926042092793,\n        \"min\": 48.22,\n        \"max\": 93.03,\n        \"num_unique_values\": 22,\n        \"samples\": [\n          58.83,\n          84.92,\n          93.03\n        ],\n        \"semantic_type\": \"\",\n        \"description\": \"\"\n      }\n    },\n    {\n      \"column\": \"TPT\",\n      \"properties\": {\n        \"dtype\": \"number\",\n        \"std\": 1.0981043287789722,\n        \"min\": 1.63,\n        \"max\": 5.69,\n        \"num_unique_values\": 22,\n        \"samples\": [\n          3.52,\n          3.65,\n          3.79\n        ],\n        \"semantic_type\": \"\",\n        \"description\": \"\"\n      }\n    },\n    {\n      \"column\": \"PDRB\",\n      \"properties\": {\n        \"dtype\": \"number\",\n        \"std\": 6298,\n        \"min\": 7706,\n        \"max\": 38169,\n        \"num_unique_values\": 21,\n        \"samples\": [\n          10199,\n          9003,\n          8943\n        ],\n        \"semantic_type\": \"\",\n        \"description\": \"\"\n      }\n    },\n    {\n      \"column\": \"JSM\",\n      \"properties\": {\n        \"dtype\": \"number\",\n        \"std\": 47126,\n        \"min\": 3889,\n        \"max\": 237432,\n        \"num_unique_values\": 22,\n        \"samples\": [\n          12696,\n          15677,\n          35172\n        ],\n        \"semantic_type\": \"\",\n        \"description\": \"\"\n      }\n    },\n    {\n      \"column\": \"UHH\",\n      \"properties\": {\n        \"dtype\": \"number\",\n        \"std\": 2.1561504196216523,\n        \"min\": 61.06,\n        \"max\": 70.52,\n        \"num_unique_values\": 22,\n        \"samples\": [\n          67.57,\n          65.6,\n          65.96\n        ],\n        \"semantic_type\": \"\",\n        \"description\": \"\"\n      }\n    },\n    {\n      \"column\": \"LLR\",\n      \"properties\": {\n        \"dtype\": \"number\",\n        \"std\": 3.04723055728707,\n        \"min\": 0.05,\n        \"max\": 14.79,\n        \"num_unique_values\": 21,\n        \"samples\": [\n          3.93,\n          2.05,\n          0.68\n        ],\n        \"semantic_type\": \"\",\n        \"description\": \"\"\n      }\n    },\n    {\n      \"column\": \"PKB\",\n      \"properties\": {\n        \"dtype\": \"number\",\n        \"std\": 17.829808034453272,\n        \"min\": 4.29,\n        \"max\": 93.27,\n        \"num_unique_values\": 21,\n        \"samples\": [\n          82.84,\n          93.27,\n          89.28\n        ],\n        \"semantic_type\": \"\",\n        \"description\": \"\"\n      }\n    }\n  ]\n}"
            }
          },
          "metadata": {},
          "execution_count": 37
        }
      ]
    },
    {
      "cell_type": "markdown",
      "source": [
        "## **b. Menyesuaikan Peubah**"
      ],
      "metadata": {
        "id": "K3H8iVUk4STX"
      }
    },
    {
      "cell_type": "markdown",
      "source": [
        "Untuk mempermudah pemanggilan peubah pada saat eksplorasi dan analisis, jika pada file masih mengggunakan nama peubah yang panjang, maka bisa diganti dengan menggunakan fungsi `data.columns`. Kolom wilayah juga dapat dihapus dengan menggunakan fungsi `data.drop(columns=[\"NamaPeubah\"])`."
      ],
      "metadata": {
        "id": "3sPQPuaJ4d5O"
      }
    },
    {
      "cell_type": "code",
      "source": [
        "data.columns = [\"Wilayah\", \"Y\"] + [f\"X{i}\" for i in range(1, 13)]\n",
        "data = data.drop(columns=[\"Wilayah\"])\n",
        "data.head()"
      ],
      "metadata": {
        "colab": {
          "base_uri": "https://localhost:8080/",
          "height": 206
        },
        "id": "JmDKaedC4V3K",
        "outputId": "0e6e3fe0-6bc7-4d43-f40d-0e484b835a2d"
      },
      "execution_count": 38,
      "outputs": [
        {
          "output_type": "execute_result",
          "data": {
            "text/plain": [
              "       Y     X1    X2      X3     X4    X5     X6    X7     X8     X9    X10  \\\n",
              "0  27.17  65.22  6.92  152414  11.90  0.39  58.83  3.52  10199  12696  67.57   \n",
              "1  28.08  67.05  7.57  255498   5.87  0.30  61.81  2.21  16617  36053  65.82   \n",
              "2  21.78  65.82  7.42  376837   6.17  1.18  76.42  3.22  13793  59622  65.64   \n",
              "3  25.18  63.58  6.97  474521   7.71  1.03  67.93  2.64  10953  57201  66.89   \n",
              "4  21.85  65.16  8.16  271277   3.98  0.45  80.56  1.96  11511  42634  67.61   \n",
              "\n",
              "    X11    X12  \n",
              "0  3.93  82.84  \n",
              "1  2.02  68.79  \n",
              "2  4.20  72.78  \n",
              "3  2.09  83.83  \n",
              "4  1.20  77.65  "
            ],
            "text/html": [
              "\n",
              "  <div id=\"df-df8f52e8-f8e6-4d86-baa5-d4c3d9414b96\" class=\"colab-df-container\">\n",
              "    <div>\n",
              "<style scoped>\n",
              "    .dataframe tbody tr th:only-of-type {\n",
              "        vertical-align: middle;\n",
              "    }\n",
              "\n",
              "    .dataframe tbody tr th {\n",
              "        vertical-align: top;\n",
              "    }\n",
              "\n",
              "    .dataframe thead th {\n",
              "        text-align: right;\n",
              "    }\n",
              "</style>\n",
              "<table border=\"1\" class=\"dataframe\">\n",
              "  <thead>\n",
              "    <tr style=\"text-align: right;\">\n",
              "      <th></th>\n",
              "      <th>Y</th>\n",
              "      <th>X1</th>\n",
              "      <th>X2</th>\n",
              "      <th>X3</th>\n",
              "      <th>X4</th>\n",
              "      <th>X5</th>\n",
              "      <th>X6</th>\n",
              "      <th>X7</th>\n",
              "      <th>X8</th>\n",
              "      <th>X9</th>\n",
              "      <th>X10</th>\n",
              "      <th>X11</th>\n",
              "      <th>X12</th>\n",
              "    </tr>\n",
              "  </thead>\n",
              "  <tbody>\n",
              "    <tr>\n",
              "      <th>0</th>\n",
              "      <td>27.17</td>\n",
              "      <td>65.22</td>\n",
              "      <td>6.92</td>\n",
              "      <td>152414</td>\n",
              "      <td>11.90</td>\n",
              "      <td>0.39</td>\n",
              "      <td>58.83</td>\n",
              "      <td>3.52</td>\n",
              "      <td>10199</td>\n",
              "      <td>12696</td>\n",
              "      <td>67.57</td>\n",
              "      <td>3.93</td>\n",
              "      <td>82.84</td>\n",
              "    </tr>\n",
              "    <tr>\n",
              "      <th>1</th>\n",
              "      <td>28.08</td>\n",
              "      <td>67.05</td>\n",
              "      <td>7.57</td>\n",
              "      <td>255498</td>\n",
              "      <td>5.87</td>\n",
              "      <td>0.30</td>\n",
              "      <td>61.81</td>\n",
              "      <td>2.21</td>\n",
              "      <td>16617</td>\n",
              "      <td>36053</td>\n",
              "      <td>65.82</td>\n",
              "      <td>2.02</td>\n",
              "      <td>68.79</td>\n",
              "    </tr>\n",
              "    <tr>\n",
              "      <th>2</th>\n",
              "      <td>21.78</td>\n",
              "      <td>65.82</td>\n",
              "      <td>7.42</td>\n",
              "      <td>376837</td>\n",
              "      <td>6.17</td>\n",
              "      <td>1.18</td>\n",
              "      <td>76.42</td>\n",
              "      <td>3.22</td>\n",
              "      <td>13793</td>\n",
              "      <td>59622</td>\n",
              "      <td>65.64</td>\n",
              "      <td>4.20</td>\n",
              "      <td>72.78</td>\n",
              "    </tr>\n",
              "    <tr>\n",
              "      <th>3</th>\n",
              "      <td>25.18</td>\n",
              "      <td>63.58</td>\n",
              "      <td>6.97</td>\n",
              "      <td>474521</td>\n",
              "      <td>7.71</td>\n",
              "      <td>1.03</td>\n",
              "      <td>67.93</td>\n",
              "      <td>2.64</td>\n",
              "      <td>10953</td>\n",
              "      <td>57201</td>\n",
              "      <td>66.89</td>\n",
              "      <td>2.09</td>\n",
              "      <td>83.83</td>\n",
              "    </tr>\n",
              "    <tr>\n",
              "      <th>4</th>\n",
              "      <td>21.85</td>\n",
              "      <td>65.16</td>\n",
              "      <td>8.16</td>\n",
              "      <td>271277</td>\n",
              "      <td>3.98</td>\n",
              "      <td>0.45</td>\n",
              "      <td>80.56</td>\n",
              "      <td>1.96</td>\n",
              "      <td>11511</td>\n",
              "      <td>42634</td>\n",
              "      <td>67.61</td>\n",
              "      <td>1.20</td>\n",
              "      <td>77.65</td>\n",
              "    </tr>\n",
              "  </tbody>\n",
              "</table>\n",
              "</div>\n",
              "    <div class=\"colab-df-buttons\">\n",
              "\n",
              "  <div class=\"colab-df-container\">\n",
              "    <button class=\"colab-df-convert\" onclick=\"convertToInteractive('df-df8f52e8-f8e6-4d86-baa5-d4c3d9414b96')\"\n",
              "            title=\"Convert this dataframe to an interactive table.\"\n",
              "            style=\"display:none;\">\n",
              "\n",
              "  <svg xmlns=\"http://www.w3.org/2000/svg\" height=\"24px\" viewBox=\"0 -960 960 960\">\n",
              "    <path d=\"M120-120v-720h720v720H120Zm60-500h600v-160H180v160Zm220 220h160v-160H400v160Zm0 220h160v-160H400v160ZM180-400h160v-160H180v160Zm440 0h160v-160H620v160ZM180-180h160v-160H180v160Zm440 0h160v-160H620v160Z\"/>\n",
              "  </svg>\n",
              "    </button>\n",
              "\n",
              "  <style>\n",
              "    .colab-df-container {\n",
              "      display:flex;\n",
              "      gap: 12px;\n",
              "    }\n",
              "\n",
              "    .colab-df-convert {\n",
              "      background-color: #E8F0FE;\n",
              "      border: none;\n",
              "      border-radius: 50%;\n",
              "      cursor: pointer;\n",
              "      display: none;\n",
              "      fill: #1967D2;\n",
              "      height: 32px;\n",
              "      padding: 0 0 0 0;\n",
              "      width: 32px;\n",
              "    }\n",
              "\n",
              "    .colab-df-convert:hover {\n",
              "      background-color: #E2EBFA;\n",
              "      box-shadow: 0px 1px 2px rgba(60, 64, 67, 0.3), 0px 1px 3px 1px rgba(60, 64, 67, 0.15);\n",
              "      fill: #174EA6;\n",
              "    }\n",
              "\n",
              "    .colab-df-buttons div {\n",
              "      margin-bottom: 4px;\n",
              "    }\n",
              "\n",
              "    [theme=dark] .colab-df-convert {\n",
              "      background-color: #3B4455;\n",
              "      fill: #D2E3FC;\n",
              "    }\n",
              "\n",
              "    [theme=dark] .colab-df-convert:hover {\n",
              "      background-color: #434B5C;\n",
              "      box-shadow: 0px 1px 3px 1px rgba(0, 0, 0, 0.15);\n",
              "      filter: drop-shadow(0px 1px 2px rgba(0, 0, 0, 0.3));\n",
              "      fill: #FFFFFF;\n",
              "    }\n",
              "  </style>\n",
              "\n",
              "    <script>\n",
              "      const buttonEl =\n",
              "        document.querySelector('#df-df8f52e8-f8e6-4d86-baa5-d4c3d9414b96 button.colab-df-convert');\n",
              "      buttonEl.style.display =\n",
              "        google.colab.kernel.accessAllowed ? 'block' : 'none';\n",
              "\n",
              "      async function convertToInteractive(key) {\n",
              "        const element = document.querySelector('#df-df8f52e8-f8e6-4d86-baa5-d4c3d9414b96');\n",
              "        const dataTable =\n",
              "          await google.colab.kernel.invokeFunction('convertToInteractive',\n",
              "                                                    [key], {});\n",
              "        if (!dataTable) return;\n",
              "\n",
              "        const docLinkHtml = 'Like what you see? Visit the ' +\n",
              "          '<a target=\"_blank\" href=https://colab.research.google.com/notebooks/data_table.ipynb>data table notebook</a>'\n",
              "          + ' to learn more about interactive tables.';\n",
              "        element.innerHTML = '';\n",
              "        dataTable['output_type'] = 'display_data';\n",
              "        await google.colab.output.renderOutput(dataTable, element);\n",
              "        const docLink = document.createElement('div');\n",
              "        docLink.innerHTML = docLinkHtml;\n",
              "        element.appendChild(docLink);\n",
              "      }\n",
              "    </script>\n",
              "  </div>\n",
              "\n",
              "\n",
              "<div id=\"df-5e6f4234-9c12-4376-9621-19b2b26fa550\">\n",
              "  <button class=\"colab-df-quickchart\" onclick=\"quickchart('df-5e6f4234-9c12-4376-9621-19b2b26fa550')\"\n",
              "            title=\"Suggest charts\"\n",
              "            style=\"display:none;\">\n",
              "\n",
              "<svg xmlns=\"http://www.w3.org/2000/svg\" height=\"24px\"viewBox=\"0 0 24 24\"\n",
              "     width=\"24px\">\n",
              "    <g>\n",
              "        <path d=\"M19 3H5c-1.1 0-2 .9-2 2v14c0 1.1.9 2 2 2h14c1.1 0 2-.9 2-2V5c0-1.1-.9-2-2-2zM9 17H7v-7h2v7zm4 0h-2V7h2v10zm4 0h-2v-4h2v4z\"/>\n",
              "    </g>\n",
              "</svg>\n",
              "  </button>\n",
              "\n",
              "<style>\n",
              "  .colab-df-quickchart {\n",
              "      --bg-color: #E8F0FE;\n",
              "      --fill-color: #1967D2;\n",
              "      --hover-bg-color: #E2EBFA;\n",
              "      --hover-fill-color: #174EA6;\n",
              "      --disabled-fill-color: #AAA;\n",
              "      --disabled-bg-color: #DDD;\n",
              "  }\n",
              "\n",
              "  [theme=dark] .colab-df-quickchart {\n",
              "      --bg-color: #3B4455;\n",
              "      --fill-color: #D2E3FC;\n",
              "      --hover-bg-color: #434B5C;\n",
              "      --hover-fill-color: #FFFFFF;\n",
              "      --disabled-bg-color: #3B4455;\n",
              "      --disabled-fill-color: #666;\n",
              "  }\n",
              "\n",
              "  .colab-df-quickchart {\n",
              "    background-color: var(--bg-color);\n",
              "    border: none;\n",
              "    border-radius: 50%;\n",
              "    cursor: pointer;\n",
              "    display: none;\n",
              "    fill: var(--fill-color);\n",
              "    height: 32px;\n",
              "    padding: 0;\n",
              "    width: 32px;\n",
              "  }\n",
              "\n",
              "  .colab-df-quickchart:hover {\n",
              "    background-color: var(--hover-bg-color);\n",
              "    box-shadow: 0 1px 2px rgba(60, 64, 67, 0.3), 0 1px 3px 1px rgba(60, 64, 67, 0.15);\n",
              "    fill: var(--button-hover-fill-color);\n",
              "  }\n",
              "\n",
              "  .colab-df-quickchart-complete:disabled,\n",
              "  .colab-df-quickchart-complete:disabled:hover {\n",
              "    background-color: var(--disabled-bg-color);\n",
              "    fill: var(--disabled-fill-color);\n",
              "    box-shadow: none;\n",
              "  }\n",
              "\n",
              "  .colab-df-spinner {\n",
              "    border: 2px solid var(--fill-color);\n",
              "    border-color: transparent;\n",
              "    border-bottom-color: var(--fill-color);\n",
              "    animation:\n",
              "      spin 1s steps(1) infinite;\n",
              "  }\n",
              "\n",
              "  @keyframes spin {\n",
              "    0% {\n",
              "      border-color: transparent;\n",
              "      border-bottom-color: var(--fill-color);\n",
              "      border-left-color: var(--fill-color);\n",
              "    }\n",
              "    20% {\n",
              "      border-color: transparent;\n",
              "      border-left-color: var(--fill-color);\n",
              "      border-top-color: var(--fill-color);\n",
              "    }\n",
              "    30% {\n",
              "      border-color: transparent;\n",
              "      border-left-color: var(--fill-color);\n",
              "      border-top-color: var(--fill-color);\n",
              "      border-right-color: var(--fill-color);\n",
              "    }\n",
              "    40% {\n",
              "      border-color: transparent;\n",
              "      border-right-color: var(--fill-color);\n",
              "      border-top-color: var(--fill-color);\n",
              "    }\n",
              "    60% {\n",
              "      border-color: transparent;\n",
              "      border-right-color: var(--fill-color);\n",
              "    }\n",
              "    80% {\n",
              "      border-color: transparent;\n",
              "      border-right-color: var(--fill-color);\n",
              "      border-bottom-color: var(--fill-color);\n",
              "    }\n",
              "    90% {\n",
              "      border-color: transparent;\n",
              "      border-bottom-color: var(--fill-color);\n",
              "    }\n",
              "  }\n",
              "</style>\n",
              "\n",
              "  <script>\n",
              "    async function quickchart(key) {\n",
              "      const quickchartButtonEl =\n",
              "        document.querySelector('#' + key + ' button');\n",
              "      quickchartButtonEl.disabled = true;  // To prevent multiple clicks.\n",
              "      quickchartButtonEl.classList.add('colab-df-spinner');\n",
              "      try {\n",
              "        const charts = await google.colab.kernel.invokeFunction(\n",
              "            'suggestCharts', [key], {});\n",
              "      } catch (error) {\n",
              "        console.error('Error during call to suggestCharts:', error);\n",
              "      }\n",
              "      quickchartButtonEl.classList.remove('colab-df-spinner');\n",
              "      quickchartButtonEl.classList.add('colab-df-quickchart-complete');\n",
              "    }\n",
              "    (() => {\n",
              "      let quickchartButtonEl =\n",
              "        document.querySelector('#df-5e6f4234-9c12-4376-9621-19b2b26fa550 button');\n",
              "      quickchartButtonEl.style.display =\n",
              "        google.colab.kernel.accessAllowed ? 'block' : 'none';\n",
              "    })();\n",
              "  </script>\n",
              "</div>\n",
              "\n",
              "    </div>\n",
              "  </div>\n"
            ],
            "application/vnd.google.colaboratory.intrinsic+json": {
              "type": "dataframe",
              "variable_name": "data",
              "summary": "{\n  \"name\": \"data\",\n  \"rows\": 22,\n  \"fields\": [\n    {\n      \"column\": \"Y\",\n      \"properties\": {\n        \"dtype\": \"number\",\n        \"std\": 6.764347538310522,\n        \"min\": 8.61,\n        \"max\": 31.78,\n        \"num_unique_values\": 22,\n        \"samples\": [\n          27.17,\n          27.05,\n          11.77\n        ],\n        \"semantic_type\": \"\",\n        \"description\": \"\"\n      }\n    },\n    {\n      \"column\": \"X1\",\n      \"properties\": {\n        \"dtype\": \"number\",\n        \"std\": 4.0359307492803955,\n        \"min\": 58.89,\n        \"max\": 80.62,\n        \"num_unique_values\": 22,\n        \"samples\": [\n          65.22,\n          64.0,\n          65.79\n        ],\n        \"semantic_type\": \"\",\n        \"description\": \"\"\n      }\n    },\n    {\n      \"column\": \"X2\",\n      \"properties\": {\n        \"dtype\": \"number\",\n        \"std\": 1.0480619095424497,\n        \"min\": 6.38,\n        \"max\": 11.62,\n        \"num_unique_values\": 21,\n        \"samples\": [\n          6.92,\n          8.14,\n          7.0\n        ],\n        \"semantic_type\": \"\",\n        \"description\": \"\"\n      }\n    },\n    {\n      \"column\": \"X3\",\n      \"properties\": {\n        \"dtype\": \"number\",\n        \"std\": 105960,\n        \"min\": 90521,\n        \"max\": 474521,\n        \"num_unique_values\": 22,\n        \"samples\": [\n          152414,\n          150521,\n          288310\n        ],\n        \"semantic_type\": \"\",\n        \"description\": \"\"\n      }\n    },\n    {\n      \"column\": \"X4\",\n      \"properties\": {\n        \"dtype\": \"number\",\n        \"std\": 3.6260193968960874,\n        \"min\": 0.76,\n        \"max\": 13.39,\n        \"num_unique_values\": 22,\n        \"samples\": [\n          11.9,\n          3.9,\n          3.69\n        ],\n        \"semantic_type\": \"\",\n        \"description\": \"\"\n      }\n    },\n    {\n      \"column\": \"X5\",\n      \"properties\": {\n        \"dtype\": \"number\",\n        \"std\": 0.3536684680338145,\n        \"min\": 0.0,\n        \"max\": 1.2,\n        \"num_unique_values\": 20,\n        \"samples\": [\n          0.39,\n          0.18,\n          0.87\n        ],\n        \"semantic_type\": \"\",\n        \"description\": \"\"\n      }\n    },\n    {\n      \"column\": \"X6\",\n      \"properties\": {\n        \"dtype\": \"number\",\n        \"std\": 13.391926042092793,\n        \"min\": 48.22,\n        \"max\": 93.03,\n        \"num_unique_values\": 22,\n        \"samples\": [\n          58.83,\n          84.92,\n          93.03\n        ],\n        \"semantic_type\": \"\",\n        \"description\": \"\"\n      }\n    },\n    {\n      \"column\": \"X7\",\n      \"properties\": {\n        \"dtype\": \"number\",\n        \"std\": 1.0981043287789722,\n        \"min\": 1.63,\n        \"max\": 5.69,\n        \"num_unique_values\": 22,\n        \"samples\": [\n          3.52,\n          3.65,\n          3.79\n        ],\n        \"semantic_type\": \"\",\n        \"description\": \"\"\n      }\n    },\n    {\n      \"column\": \"X8\",\n      \"properties\": {\n        \"dtype\": \"number\",\n        \"std\": 6298,\n        \"min\": 7706,\n        \"max\": 38169,\n        \"num_unique_values\": 21,\n        \"samples\": [\n          10199,\n          9003,\n          8943\n        ],\n        \"semantic_type\": \"\",\n        \"description\": \"\"\n      }\n    },\n    {\n      \"column\": \"X9\",\n      \"properties\": {\n        \"dtype\": \"number\",\n        \"std\": 47126,\n        \"min\": 3889,\n        \"max\": 237432,\n        \"num_unique_values\": 22,\n        \"samples\": [\n          12696,\n          15677,\n          35172\n        ],\n        \"semantic_type\": \"\",\n        \"description\": \"\"\n      }\n    },\n    {\n      \"column\": \"X10\",\n      \"properties\": {\n        \"dtype\": \"number\",\n        \"std\": 2.1561504196216523,\n        \"min\": 61.06,\n        \"max\": 70.52,\n        \"num_unique_values\": 22,\n        \"samples\": [\n          67.57,\n          65.6,\n          65.96\n        ],\n        \"semantic_type\": \"\",\n        \"description\": \"\"\n      }\n    },\n    {\n      \"column\": \"X11\",\n      \"properties\": {\n        \"dtype\": \"number\",\n        \"std\": 3.04723055728707,\n        \"min\": 0.05,\n        \"max\": 14.79,\n        \"num_unique_values\": 21,\n        \"samples\": [\n          3.93,\n          2.05,\n          0.68\n        ],\n        \"semantic_type\": \"\",\n        \"description\": \"\"\n      }\n    },\n    {\n      \"column\": \"X12\",\n      \"properties\": {\n        \"dtype\": \"number\",\n        \"std\": 17.829808034453272,\n        \"min\": 4.29,\n        \"max\": 93.27,\n        \"num_unique_values\": 21,\n        \"samples\": [\n          82.84,\n          93.27,\n          89.28\n        ],\n        \"semantic_type\": \"\",\n        \"description\": \"\"\n      }\n    }\n  ]\n}"
            }
          },
          "metadata": {},
          "execution_count": 38
        }
      ]
    },
    {
      "cell_type": "markdown",
      "source": [
        "# **3. Eksplorasi Data**"
      ],
      "metadata": {
        "id": "AvoQWPSz5Ujq"
      }
    },
    {
      "cell_type": "code",
      "source": [
        "n = len(data)  # Jumlah observasi"
      ],
      "metadata": {
        "id": "L_Exphqy5aIt"
      },
      "execution_count": 39,
      "outputs": []
    },
    {
      "cell_type": "markdown",
      "source": [
        "Saat ini terdapat 1 peubah Y dan 12 peubah X, misal ingin dilakukan eksplorasi dan analisis terkait peubah X6"
      ],
      "metadata": {
        "id": "-Oh70ZeE6S8J"
      }
    },
    {
      "cell_type": "code",
      "source": [
        "plt.scatter(data[\"X6\"], data[\"Y\"])\n",
        "plt.xlabel(\"Akses Sanitasi Layak (%)\")\n",
        "plt.ylabel(\"Penduduk Miskin (%)\")\n",
        "plt.title(\"Plot Akses Sanitasi Layak vs Penduduk Miskin\")\n",
        "plt.show()"
      ],
      "metadata": {
        "colab": {
          "base_uri": "https://localhost:8080/",
          "height": 471
        },
        "id": "bUdQS1s-5Y29",
        "outputId": "99a66740-2c0c-4e7a-807f-bc28b0313cf7"
      },
      "execution_count": 43,
      "outputs": [
        {
          "output_type": "display_data",
          "data": {
            "text/plain": [
              "<Figure size 640x480 with 1 Axes>"
            ],
            "image/png": "[encoded data removed]"
          },
          "metadata": {}
        }
      ]
    },
    {
      "cell_type": "code",
      "source": [
        "data[\"Y\"].describe() #ringkasan data peubah Y"
      ],
      "metadata": {
        "colab": {
          "base_uri": "https://localhost:8080/",
          "height": 335
        },
        "id": "_H2FERaK8IkZ",
        "outputId": "1e210298-8e43-42cb-f2d6-b55a64b29dfa"
      },
      "execution_count": 44,
      "outputs": [
        {
          "output_type": "execute_result",
          "data": {
            "text/plain": [
              "count    22.000000\n",
              "mean     20.635000\n",
              "std       6.764348\n",
              "min       8.610000\n",
              "25%      14.330000\n",
              "50%      21.815000\n",
              "75%      26.582500\n",
              "max      31.780000\n",
              "Name: Y, dtype: float64"
            ],
            "text/html": [
              "<div>\n",
              "<style scoped>\n",
              "    .dataframe tbody tr th:only-of-type {\n",
              "        vertical-align: middle;\n",
              "    }\n",
              "\n",
              "    .dataframe tbody tr th {\n",
              "        vertical-align: top;\n",
              "    }\n",
              "\n",
              "    .dataframe thead th {\n",
              "        text-align: right;\n",
              "    }\n",
              "</style>\n",
              "<table border=\"1\" class=\"dataframe\">\n",
              "  <thead>\n",
              "    <tr style=\"text-align: right;\">\n",
              "      <th></th>\n",
              "      <th>Y</th>\n",
              "    </tr>\n",
              "  </thead>\n",
              "  <tbody>\n",
              "    <tr>\n",
              "      <th>count</th>\n",
              "      <td>22.000000</td>\n",
              "    </tr>\n",
              "    <tr>\n",
              "      <th>mean</th>\n",
              "      <td>20.635000</td>\n",
              "    </tr>\n",
              "    <tr>\n",
              "      <th>std</th>\n",
              "      <td>6.764348</td>\n",
              "    </tr>\n",
              "    <tr>\n",
              "      <th>min</th>\n",
              "      <td>8.610000</td>\n",
              "    </tr>\n",
              "    <tr>\n",
              "      <th>25%</th>\n",
              "      <td>14.330000</td>\n",
              "    </tr>\n",
              "    <tr>\n",
              "      <th>50%</th>\n",
              "      <td>21.815000</td>\n",
              "    </tr>\n",
              "    <tr>\n",
              "      <th>75%</th>\n",
              "      <td>26.582500</td>\n",
              "    </tr>\n",
              "    <tr>\n",
              "      <th>max</th>\n",
              "      <td>31.780000</td>\n",
              "    </tr>\n",
              "  </tbody>\n",
              "</table>\n",
              "</div><br><label><b>dtype:</b> float64</label>"
            ]
          },
          "metadata": {},
          "execution_count": 44
        }
      ]
    },
    {
      "cell_type": "code",
      "source": [
        "plt.boxplot(data[\"Y\"])\n",
        "plt.title(\"Boxplot Penduduk Miskin (%)\")\n",
        "plt.ylabel(\"Persen (%)\")\n",
        "plt.show()"
      ],
      "metadata": {
        "colab": {
          "base_uri": "https://localhost:8080/",
          "height": 451
        },
        "id": "eIl2f6DQ6MDc",
        "outputId": "bda8589c-8e00-4edb-b30a-e2053465bb79"
      },
      "execution_count": 45,
      "outputs": [
        {
          "output_type": "display_data",
          "data": {
            "text/plain": [
              "<Figure size 640x480 with 1 Axes>"
            ],
            "image/png": "[encoded data removed]"
          },
          "metadata": {}
        }
      ]
    },
    {
      "cell_type": "code",
      "source": [
        "data[\"X6\"].describe() #ringkasan data peubah X6"
      ],
      "metadata": {
        "colab": {
          "base_uri": "https://localhost:8080/",
          "height": 335
        },
        "id": "bCSiQ9LN8Nqb",
        "outputId": "ae7c5a36-1f55-48c2-ca73-1b07ea9f88ce"
      },
      "execution_count": 46,
      "outputs": [
        {
          "output_type": "execute_result",
          "data": {
            "text/plain": [
              "count    22.000000\n",
              "mean     74.775455\n",
              "std      13.391926\n",
              "min      48.220000\n",
              "25%      64.052500\n",
              "50%      80.310000\n",
              "75%      84.677500\n",
              "max      93.030000\n",
              "Name: X6, dtype: float64"
            ],
            "text/html": [
              "<div>\n",
              "<style scoped>\n",
              "    .dataframe tbody tr th:only-of-type {\n",
              "        vertical-align: middle;\n",
              "    }\n",
              "\n",
              "    .dataframe tbody tr th {\n",
              "        vertical-align: top;\n",
              "    }\n",
              "\n",
              "    .dataframe thead th {\n",
              "        text-align: right;\n",
              "    }\n",
              "</style>\n",
              "<table border=\"1\" class=\"dataframe\">\n",
              "  <thead>\n",
              "    <tr style=\"text-align: right;\">\n",
              "      <th></th>\n",
              "      <th>X6</th>\n",
              "    </tr>\n",
              "  </thead>\n",
              "  <tbody>\n",
              "    <tr>\n",
              "      <th>count</th>\n",
              "      <td>22.000000</td>\n",
              "    </tr>\n",
              "    <tr>\n",
              "      <th>mean</th>\n",
              "      <td>74.775455</td>\n",
              "    </tr>\n",
              "    <tr>\n",
              "      <th>std</th>\n",
              "      <td>13.391926</td>\n",
              "    </tr>\n",
              "    <tr>\n",
              "      <th>min</th>\n",
              "      <td>48.220000</td>\n",
              "    </tr>\n",
              "    <tr>\n",
              "      <th>25%</th>\n",
              "      <td>64.052500</td>\n",
              "    </tr>\n",
              "    <tr>\n",
              "      <th>50%</th>\n",
              "      <td>80.310000</td>\n",
              "    </tr>\n",
              "    <tr>\n",
              "      <th>75%</th>\n",
              "      <td>84.677500</td>\n",
              "    </tr>\n",
              "    <tr>\n",
              "      <th>max</th>\n",
              "      <td>93.030000</td>\n",
              "    </tr>\n",
              "  </tbody>\n",
              "</table>\n",
              "</div><br><label><b>dtype:</b> float64</label>"
            ]
          },
          "metadata": {},
          "execution_count": 46
        }
      ]
    },
    {
      "cell_type": "code",
      "source": [
        "plt.boxplot(data[\"X6\"])\n",
        "plt.title(\"Boxplot Akses Sanitasi Layak (%)\")\n",
        "plt.ylabel(\"Persen (%)\")\n",
        "plt.show()"
      ],
      "metadata": {
        "colab": {
          "base_uri": "https://localhost:8080/",
          "height": 451
        },
        "id": "XlJq9XDx8Rk7",
        "outputId": "d1e96bdc-6302-4eab-852f-57100637c3fa"
      },
      "execution_count": 47,
      "outputs": [
        {
          "output_type": "display_data",
          "data": {
            "text/plain": [
              "<Figure size 640x480 with 1 Axes>"
            ],
            "image/png": "[encoded data removed]"
          },
          "metadata": {}
        }
      ]
    },
    {
      "cell_type": "markdown",
      "source": [
        "# **4. Pembentukan Model**"
      ],
      "metadata": {
        "id": "cPUY0MrJ8cgl"
      }
    },
    {
      "cell_type": "markdown",
      "source": [
        "## **a. Manual**"
      ],
      "metadata": {
        "id": "yrHGTIOA8fRF"
      }
    },
    {
      "cell_type": "markdown",
      "source": [
        "### Koefisien Regresi\n",
        "\n"
      ],
      "metadata": {
        "id": "ffZQcbvA8h3S"
      }
    },
    {
      "cell_type": "markdown",
      "source": [
        "$\\hat{y_i}=\\hat{\\beta_0}+\\hat{\\beta_1}x_i$, $i=1,2,...,n$\n",
        "\n",
        "$\\hat{\\beta_1}=\\frac{\\sum(y_i-\\bar{y})(x_i-\\bar{x}))}{\\sum(x_i-\\bar{x})^2}=\\frac{S_{xx}}{S_{xy}}$ atau  \n",
        "\n",
        "$\\hat{\\beta_1}=\\frac{\\sum(x_iy)-\\frac{\\sum(x_i)\\sum(y)}{n}}{\\sum(x_i^2)-\\frac{\\sum(x_i^2)}{n}}$\n",
        "\n",
        "$\\hat{\\beta_0}=\\bar{y}-\\hat{\\beta_1}\\bar{x}$"
      ],
      "metadata": {
        "id": "xHGhb1lSAXbN"
      }
    },
    {
      "cell_type": "code",
      "source": [
        "x = data[\"X6\"]\n",
        "y = data[\"Y\"]\n",
        "\n",
        "b1 = (np.sum(x * y) - np.sum(x) * np.sum(y) / n) / (np.sum(x**2) - (np.sum(x)**2 / n))\n",
        "b0 = np.mean(y) - b1 * np.mean(x)\n",
        "\n",
        "print(f\"Koefisien b0: {b0:.4f}\")\n",
        "print(f\"Koefisien b1: {b1:.4f}\")"
      ],
      "metadata": {
        "colab": {
          "base_uri": "https://localhost:8080/"
        },
        "id": "mJfvrYSH8lM8",
        "outputId": "92368295-1a5c-4347-a1ff-7efe65634fbf"
      },
      "execution_count": 48,
      "outputs": [
        {
          "output_type": "stream",
          "name": "stdout",
          "text": [
            "Koefisien b0: 44.7632\n",
            "Koefisien b1: -0.3227\n"
          ]
        }
      ]
    },
    {
      "cell_type": "markdown",
      "source": [
        "### Standar Error"
      ],
      "metadata": {
        "id": "25HsEiFo99bR"
      }
    },
    {
      "cell_type": "code",
      "source": [
        "galat = y - (b0 + b1 * x)\n",
        "ragam_galat = np.sum(galat**2) / (n - 2)\n",
        "\n",
        "se_b0 = np.sqrt(ragam_galat * (1/n + np.mean(x)**2 / np.sum((x - np.mean(x))**2)))\n",
        "se_b1 = np.sqrt(ragam_galat / np.sum((x - np.mean(x))**2))\n",
        "\n",
        "print(f\"Standar error b0: {se_b0:.4f}\")\n",
        "print(f\"Standar error b1: {se_b1:.4f}\")"
      ],
      "metadata": {
        "colab": {
          "base_uri": "https://localhost:8080/"
        },
        "id": "VefYDFyV9_O7",
        "outputId": "ac90a333-daeb-48da-f5a4-efb86e3e3b31"
      },
      "execution_count": 49,
      "outputs": [
        {
          "output_type": "stream",
          "name": "stdout",
          "text": [
            "Standar error b0: 6.5963\n",
            "Standar error b1: 0.0869\n"
          ]
        }
      ]
    },
    {
      "cell_type": "markdown",
      "source": [
        "### Uji Signifikansi Parsial (uji-t)"
      ],
      "metadata": {
        "id": "lPtHfm5B_Byj"
      }
    },
    {
      "cell_type": "code",
      "source": [
        "t_b0 = b0 / se_b0\n",
        "t_b1 = b1 / se_b1\n",
        "\n",
        "p_b0 = 2 * stats.t.sf(abs(t_b0), df=n-2)\n",
        "p_b1 = 2 * stats.t.sf(abs(t_b1), df=n-2)\n",
        "\n",
        "print(f\"Nilai t pada b0: {t_b0:.4f}, dengan nilai p sebesar {p_b0:.4f}\")\n",
        "print(f\"Nilai t pada b1: {t_b1:.4f}, dengan nilai p sebesar {p_b1:.4f}\")"
      ],
      "metadata": {
        "colab": {
          "base_uri": "https://localhost:8080/"
        },
        "id": "Z2nMu9Wg_BSz",
        "outputId": "ae885a48-0d03-40af-e0e1-997e363d1aa3"
      },
      "execution_count": 50,
      "outputs": [
        {
          "output_type": "stream",
          "name": "stdout",
          "text": [
            "Nilai t pada b0: 6.7861, dengan nilai p sebesar 0.0000\n",
            "Nilai t pada b1: -3.7134, dengan nilai p sebesar 0.0014\n"
          ]
        }
      ]
    },
    {
      "cell_type": "markdown",
      "source": [
        "### Koefisien Determinasi dan *Adjusted R-Square*"
      ],
      "metadata": {
        "id": "roxIp9Ky_JAN"
      }
    },
    {
      "cell_type": "code",
      "source": [
        "r = (np.sum(x * y) - np.sum(x) * np.sum(y) / n) / np.sqrt(\n",
        "    (np.sum(x**2) - (np.sum(x)**2 / n)) * (np.sum(y**2) - (np.sum(y)**2 / n))\n",
        ")\n",
        "r_squared = r**2\n",
        "adj_r_squared = 1 - ((1 - r_squared) * (n - 1) / (n - 2))\n",
        "\n",
        "print(f\"Koefisien Determinasi (R²): {r_squared:.4f}\")\n",
        "print(f\"Koefisien Determinasi Penyesuaian (Adjusted R²): {adj_r_squared:.4f}\")"
      ],
      "metadata": {
        "colab": {
          "base_uri": "https://localhost:8080/"
        },
        "id": "QNhqdmUb_RFg",
        "outputId": "614d9bb7-b4b4-45b8-905c-b990225b80b5"
      },
      "execution_count": 51,
      "outputs": [
        {
          "output_type": "stream",
          "name": "stdout",
          "text": [
            "Koefisien Determinasi (R²): 0.4081\n",
            "Koefisien Determinasi Penyesuaian (Adjusted R²): 0.3785\n"
          ]
        }
      ]
    },
    {
      "cell_type": "markdown",
      "source": [
        "### Uji Signifikansi Simultan (F-test)"
      ],
      "metadata": {
        "id": "JrtJ-NkJ_UgE"
      }
    },
    {
      "cell_type": "code",
      "source": [
        "JKG = np.sum((y - (b0 + b1 * x))**2)\n",
        "JKReg = np.sum(((b0 + b1 * x) - np.mean(y))**2)\n",
        "JKT = JKReg + JKG\n",
        "\n",
        "dbReg = 1\n",
        "dbg = n - 2\n",
        "dbt = n - 1\n",
        "\n",
        "F_hit = (JKReg / dbReg) / (JKG / dbg)\n",
        "p_Fhit = 1 - stats.f.cdf(F_hit, dbReg, dbg)\n",
        "\n",
        "print(f\"F-statistic: {F_hit:.4f}, dengan nilai p sebesar {p_Fhit:.4f}\")"
      ],
      "metadata": {
        "colab": {
          "base_uri": "https://localhost:8080/"
        },
        "id": "VcfckM-8_aaF",
        "outputId": "c04ecf1d-4d85-49b7-9a6d-5932d5afb93c"
      },
      "execution_count": 52,
      "outputs": [
        {
          "output_type": "stream",
          "name": "stdout",
          "text": [
            "F-statistic: 13.7894, dengan nilai p sebesar 0.0014\n"
          ]
        }
      ]
    },
    {
      "cell_type": "markdown",
      "source": [
        "## **b. Fungsi pada Statsmodel**"
      ],
      "metadata": {
        "id": "Gb7izBKy_ilr"
      }
    },
    {
      "cell_type": "code",
      "source": [
        "X = sm.add_constant(data[\"X6\"])  # Menambahkan intercept ke model\n",
        "model = sm.OLS(data[\"Y\"], X).fit()\n",
        "\n",
        "print(model.summary())"
      ],
      "metadata": {
        "colab": {
          "base_uri": "https://localhost:8080/"
        },
        "id": "X4XEKMrf_qZd",
        "outputId": "dd61e468-6e7a-4f24-fc4b-47f001b02b48"
      },
      "execution_count": 53,
      "outputs": [
        {
          "output_type": "stream",
          "name": "stdout",
          "text": [
            "                            OLS Regression Results                            \n",
            "==============================================================================\n",
            "Dep. Variable:                      Y   R-squared:                       0.408\n",
            "Model:                            OLS   Adj. R-squared:                  0.379\n",
            "Method:                 Least Squares   F-statistic:                     13.79\n",
            "Date:                Mon, 03 Feb 2025   Prob (F-statistic):            0.00137\n",
            "Time:                        14:16:22   Log-Likelihood:                -66.993\n",
            "No. Observations:                  22   AIC:                             138.0\n",
            "Df Residuals:                      20   BIC:                             140.2\n",
            "Df Model:                           1                                         \n",
            "Covariance Type:            nonrobust                                         \n",
            "==============================================================================\n",
            "                 coef    std err          t      P>|t|      [0.025      0.975]\n",
            "------------------------------------------------------------------------------\n",
            "const         44.7632      6.596      6.786      0.000      31.004      58.523\n",
            "X6            -0.3227      0.087     -3.713      0.001      -0.504      -0.141\n",
            "==============================================================================\n",
            "Omnibus:                        1.711   Durbin-Watson:                   2.287\n",
            "Prob(Omnibus):                  0.425   Jarque-Bera (JB):                1.128\n",
            "Skew:                           0.260   Prob(JB):                        0.569\n",
            "Kurtosis:                       2.020   Cond. No.                         441.\n",
            "==============================================================================\n",
            "\n",
            "Notes:\n",
            "[1] Standard Errors assume that the covariance matrix of the errors is correctly specified.\n"
          ]
        }
      ]
    },
    {
      "cell_type": "markdown",
      "source": [
        "# **5. Kesimpulan**"
      ],
      "metadata": {
        "id": "G62gEqyoAHq5"
      }
    },
    {
      "cell_type": "markdown",
      "source": [
        "Model yang terbentuk adalah sebagai berikut:\n",
        "\n",
        "$$\n",
        "\\hat{Y}=44.7632-0.3227X_6\n",
        "$$\n",
        "\n",
        "dengan Y adalah persentase penduduk miskin dan X6 adalah persentase akses sanitasi layak.  \n",
        "\n",
        "Didapatkan nilai $\\hat{\\beta_0}=44.7632$ artinya nilai dugaan rataan persentase penduduk miskin ketika akses sanitasi layak bernilai 0 persen adalah 44.7632%, akan tetapi nilai 0 tidak ada dalam selang pengamatan persentase akses sanitasi layak sehingga $\\hat{\\beta_0}$ tidak dapat didefinisikan lebih lanjut   \n",
        "\n",
        "Nilai $\\hat{\\beta_1}=-0.3227$ artinya nilai dugaan perubahan dugaan rataan persentase penduduk miskin jika persentase akses sanitasi layak berubah satu persen adalah sebesar -0.3227%  \n",
        "\n",
        "Koefisien determinasi yang dihasilkan adalah 0.4081 atau 40.81% artinya keragaman persentase penduduk miskin yang dapat dijelaskan oleh persentase akses sanitasi layak adalah sebesar 40.81%, sisanya yaitu 59.19% dijelaskan oleh peubah lain yang tidak dimasukkan dalam model.\n"
      ],
      "metadata": {
        "id": "e97S7pB0AKKf"
      }
    }
  ]
}