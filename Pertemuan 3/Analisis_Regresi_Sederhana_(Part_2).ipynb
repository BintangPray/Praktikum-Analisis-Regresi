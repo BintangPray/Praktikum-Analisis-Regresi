{
  "nbformat": 4,
  "nbformat_minor": 0,
  "metadata": {
    "colab": {
      "provenance": []
    },
    "kernelspec": {
      "name": "python3",
      "display_name": "Python 3"
    },
    "language_info": {
      "name": "python"
    }
  },
  "cells": [
    {
      "cell_type": "markdown",
      "source": [
        "# **1. *Import Library***"
      ],
      "metadata": {
        "id": "zk2gsc0mFlbU"
      }
    },
    {
      "cell_type": "code",
      "execution_count": 2,
      "metadata": {
        "id": "jHTcOp09FhvF"
      },
      "outputs": [],
      "source": [
        "import pandas as pd\n",
        "import numpy as np\n",
        "import statsmodels.api as sm\n",
        "import matplotlib.pyplot as plt\n",
        "import scipy.stats as stats"
      ]
    },
    {
      "cell_type": "markdown",
      "source": [
        "# **2. Data**"
      ],
      "metadata": {
        "id": "acRe_SjCF0US"
      }
    },
    {
      "cell_type": "code",
      "source": [
        "dt = pd.read_excel(\"Data Bintang.xlsx\")\n",
        "dt.head()"
      ],
      "metadata": {
        "colab": {
          "base_uri": "https://localhost:8080/",
          "height": 206
        },
        "id": "EvE-Bg4kF44M",
        "outputId": "9b670bb1-96f3-4364-f4c4-fdf5ff1fbef8"
      },
      "execution_count": 3,
      "outputs": [
        {
          "output_type": "execute_result",
          "data": {
            "text/plain": [
              "                Wilayah    PPM    IPM   RLS      JP    PBH   TBS    ASL   TPT  \\\n",
              "0           Sumba Barat  27.17  65.22  6.92  152414  11.90  0.39  58.83  3.52   \n",
              "1           Sumba Timur  28.08  67.05  7.57  255498   5.87  0.30  61.81  2.21   \n",
              "2                Kupang  21.78  65.82  7.42  376837   6.17  1.18  76.42  3.22   \n",
              "3  Timor Tengah Selatan  25.18  63.58  6.97  474521   7.71  1.03  67.93  2.64   \n",
              "4    Timor Tengah Utara  21.85  65.16  8.16  271277   3.98  0.45  80.56  1.96   \n",
              "\n",
              "    PDRB    JSM    UHH   LLR    PKB  \n",
              "0  10199  12696  67.57  3.93  82.84  \n",
              "1  16617  36053  65.82  2.02  68.79  \n",
              "2  13793  59622  65.64  4.20  72.78  \n",
              "3  10953  57201  66.89  2.09  83.83  \n",
              "4  11511  42634  67.61  1.20  77.65  "
            ],
            "text/html": [
              "\n",
              "  <div id=\"df-f47d220f-2282-4059-b0d4-958c00e474fd\" class=\"colab-df-container\">\n",
              "    <div>\n",
              "<style scoped>\n",
              "    .dataframe tbody tr th:only-of-type {\n",
              "        vertical-align: middle;\n",
              "    }\n",
              "\n",
              "    .dataframe tbody tr th {\n",
              "        vertical-align: top;\n",
              "    }\n",
              "\n",
              "    .dataframe thead th {\n",
              "        text-align: right;\n",
              "    }\n",
              "</style>\n",
              "<table border=\"1\" class=\"dataframe\">\n",
              "  <thead>\n",
              "    <tr style=\"text-align: right;\">\n",
              "      <th></th>\n",
              "      <th>Wilayah</th>\n",
              "      <th>PPM</th>\n",
              "      <th>IPM</th>\n",
              "      <th>RLS</th>\n",
              "      <th>JP</th>\n",
              "      <th>PBH</th>\n",
              "      <th>TBS</th>\n",
              "      <th>ASL</th>\n",
              "      <th>TPT</th>\n",
              "      <th>PDRB</th>\n",
              "      <th>JSM</th>\n",
              "      <th>UHH</th>\n",
              "      <th>LLR</th>\n",
              "      <th>PKB</th>\n",
              "    </tr>\n",
              "  </thead>\n",
              "  <tbody>\n",
              "    <tr>\n",
              "      <th>0</th>\n",
              "      <td>Sumba Barat</td>\n",
              "      <td>27.17</td>\n",
              "      <td>65.22</td>\n",
              "      <td>6.92</td>\n",
              "      <td>152414</td>\n",
              "      <td>11.90</td>\n",
              "      <td>0.39</td>\n",
              "      <td>58.83</td>\n",
              "      <td>3.52</td>\n",
              "      <td>10199</td>\n",
              "      <td>12696</td>\n",
              "      <td>67.57</td>\n",
              "      <td>3.93</td>\n",
              "      <td>82.84</td>\n",
              "    </tr>\n",
              "    <tr>\n",
              "      <th>1</th>\n",
              "      <td>Sumba Timur</td>\n",
              "      <td>28.08</td>\n",
              "      <td>67.05</td>\n",
              "      <td>7.57</td>\n",
              "      <td>255498</td>\n",
              "      <td>5.87</td>\n",
              "      <td>0.30</td>\n",
              "      <td>61.81</td>\n",
              "      <td>2.21</td>\n",
              "      <td>16617</td>\n",
              "      <td>36053</td>\n",
              "      <td>65.82</td>\n",
              "      <td>2.02</td>\n",
              "      <td>68.79</td>\n",
              "    </tr>\n",
              "    <tr>\n",
              "      <th>2</th>\n",
              "      <td>Kupang</td>\n",
              "      <td>21.78</td>\n",
              "      <td>65.82</td>\n",
              "      <td>7.42</td>\n",
              "      <td>376837</td>\n",
              "      <td>6.17</td>\n",
              "      <td>1.18</td>\n",
              "      <td>76.42</td>\n",
              "      <td>3.22</td>\n",
              "      <td>13793</td>\n",
              "      <td>59622</td>\n",
              "      <td>65.64</td>\n",
              "      <td>4.20</td>\n",
              "      <td>72.78</td>\n",
              "    </tr>\n",
              "    <tr>\n",
              "      <th>3</th>\n",
              "      <td>Timor Tengah Selatan</td>\n",
              "      <td>25.18</td>\n",
              "      <td>63.58</td>\n",
              "      <td>6.97</td>\n",
              "      <td>474521</td>\n",
              "      <td>7.71</td>\n",
              "      <td>1.03</td>\n",
              "      <td>67.93</td>\n",
              "      <td>2.64</td>\n",
              "      <td>10953</td>\n",
              "      <td>57201</td>\n",
              "      <td>66.89</td>\n",
              "      <td>2.09</td>\n",
              "      <td>83.83</td>\n",
              "    </tr>\n",
              "    <tr>\n",
              "      <th>4</th>\n",
              "      <td>Timor Tengah Utara</td>\n",
              "      <td>21.85</td>\n",
              "      <td>65.16</td>\n",
              "      <td>8.16</td>\n",
              "      <td>271277</td>\n",
              "      <td>3.98</td>\n",
              "      <td>0.45</td>\n",
              "      <td>80.56</td>\n",
              "      <td>1.96</td>\n",
              "      <td>11511</td>\n",
              "      <td>42634</td>\n",
              "      <td>67.61</td>\n",
              "      <td>1.20</td>\n",
              "      <td>77.65</td>\n",
              "    </tr>\n",
              "  </tbody>\n",
              "</table>\n",
              "</div>\n",
              "    <div class=\"colab-df-buttons\">\n",
              "\n",
              "  <div class=\"colab-df-container\">\n",
              "    <button class=\"colab-df-convert\" onclick=\"convertToInteractive('df-f47d220f-2282-4059-b0d4-958c00e474fd')\"\n",
              "            title=\"Convert this dataframe to an interactive table.\"\n",
              "            style=\"display:none;\">\n",
              "\n",
              "  <svg xmlns=\"http://www.w3.org/2000/svg\" height=\"24px\" viewBox=\"0 -960 960 960\">\n",
              "    <path d=\"M120-120v-720h720v720H120Zm60-500h600v-160H180v160Zm220 220h160v-160H400v160Zm0 220h160v-160H400v160ZM180-400h160v-160H180v160Zm440 0h160v-160H620v160ZM180-180h160v-160H180v160Zm440 0h160v-160H620v160Z\"/>\n",
              "  </svg>\n",
              "    </button>\n",
              "\n",
              "  <style>\n",
              "    .colab-df-container {\n",
              "      display:flex;\n",
              "      gap: 12px;\n",
              "    }\n",
              "\n",
              "    .colab-df-convert {\n",
              "      background-color: #E8F0FE;\n",
              "      border: none;\n",
              "      border-radius: 50%;\n",
              "      cursor: pointer;\n",
              "      display: none;\n",
              "      fill: #1967D2;\n",
              "      height: 32px;\n",
              "      padding: 0 0 0 0;\n",
              "      width: 32px;\n",
              "    }\n",
              "\n",
              "    .colab-df-convert:hover {\n",
              "      background-color: #E2EBFA;\n",
              "      box-shadow: 0px 1px 2px rgba(60, 64, 67, 0.3), 0px 1px 3px 1px rgba(60, 64, 67, 0.15);\n",
              "      fill: #174EA6;\n",
              "    }\n",
              "\n",
              "    .colab-df-buttons div {\n",
              "      margin-bottom: 4px;\n",
              "    }\n",
              "\n",
              "    [theme=dark] .colab-df-convert {\n",
              "      background-color: #3B4455;\n",
              "      fill: #D2E3FC;\n",
              "    }\n",
              "\n",
              "    [theme=dark] .colab-df-convert:hover {\n",
              "      background-color: #434B5C;\n",
              "      box-shadow: 0px 1px 3px 1px rgba(0, 0, 0, 0.15);\n",
              "      filter: drop-shadow(0px 1px 2px rgba(0, 0, 0, 0.3));\n",
              "      fill: #FFFFFF;\n",
              "    }\n",
              "  </style>\n",
              "\n",
              "    <script>\n",
              "      const buttonEl =\n",
              "        document.querySelector('#df-f47d220f-2282-4059-b0d4-958c00e474fd button.colab-df-convert');\n",
              "      buttonEl.style.display =\n",
              "        google.colab.kernel.accessAllowed ? 'block' : 'none';\n",
              "\n",
              "      async function convertToInteractive(key) {\n",
              "        const element = document.querySelector('#df-f47d220f-2282-4059-b0d4-958c00e474fd');\n",
              "        const dataTable =\n",
              "          await google.colab.kernel.invokeFunction('convertToInteractive',\n",
              "                                                    [key], {});\n",
              "        if (!dataTable) return;\n",
              "\n",
              "        const docLinkHtml = 'Like what you see? Visit the ' +\n",
              "          '<a target=\"_blank\" href=https://colab.research.google.com/notebooks/data_table.ipynb>data table notebook</a>'\n",
              "          + ' to learn more about interactive tables.';\n",
              "        element.innerHTML = '';\n",
              "        dataTable['output_type'] = 'display_data';\n",
              "        await google.colab.output.renderOutput(dataTable, element);\n",
              "        const docLink = document.createElement('div');\n",
              "        docLink.innerHTML = docLinkHtml;\n",
              "        element.appendChild(docLink);\n",
              "      }\n",
              "    </script>\n",
              "  </div>\n",
              "\n",
              "\n",
              "<div id=\"df-00e76571-faaa-4f0e-b641-11e72bf1eeaa\">\n",
              "  <button class=\"colab-df-quickchart\" onclick=\"quickchart('df-00e76571-faaa-4f0e-b641-11e72bf1eeaa')\"\n",
              "            title=\"Suggest charts\"\n",
              "            style=\"display:none;\">\n",
              "\n",
              "<svg xmlns=\"http://www.w3.org/2000/svg\" height=\"24px\"viewBox=\"0 0 24 24\"\n",
              "     width=\"24px\">\n",
              "    <g>\n",
              "        <path d=\"M19 3H5c-1.1 0-2 .9-2 2v14c0 1.1.9 2 2 2h14c1.1 0 2-.9 2-2V5c0-1.1-.9-2-2-2zM9 17H7v-7h2v7zm4 0h-2V7h2v10zm4 0h-2v-4h2v4z\"/>\n",
              "    </g>\n",
              "</svg>\n",
              "  </button>\n",
              "\n",
              "<style>\n",
              "  .colab-df-quickchart {\n",
              "      --bg-color: #E8F0FE;\n",
              "      --fill-color: #1967D2;\n",
              "      --hover-bg-color: #E2EBFA;\n",
              "      --hover-fill-color: #174EA6;\n",
              "      --disabled-fill-color: #AAA;\n",
              "      --disabled-bg-color: #DDD;\n",
              "  }\n",
              "\n",
              "  [theme=dark] .colab-df-quickchart {\n",
              "      --bg-color: #3B4455;\n",
              "      --fill-color: #D2E3FC;\n",
              "      --hover-bg-color: #434B5C;\n",
              "      --hover-fill-color: #FFFFFF;\n",
              "      --disabled-bg-color: #3B4455;\n",
              "      --disabled-fill-color: #666;\n",
              "  }\n",
              "\n",
              "  .colab-df-quickchart {\n",
              "    background-color: var(--bg-color);\n",
              "    border: none;\n",
              "    border-radius: 50%;\n",
              "    cursor: pointer;\n",
              "    display: none;\n",
              "    fill: var(--fill-color);\n",
              "    height: 32px;\n",
              "    padding: 0;\n",
              "    width: 32px;\n",
              "  }\n",
              "\n",
              "  .colab-df-quickchart:hover {\n",
              "    background-color: var(--hover-bg-color);\n",
              "    box-shadow: 0 1px 2px rgba(60, 64, 67, 0.3), 0 1px 3px 1px rgba(60, 64, 67, 0.15);\n",
              "    fill: var(--button-hover-fill-color);\n",
              "  }\n",
              "\n",
              "  .colab-df-quickchart-complete:disabled,\n",
              "  .colab-df-quickchart-complete:disabled:hover {\n",
              "    background-color: var(--disabled-bg-color);\n",
              "    fill: var(--disabled-fill-color);\n",
              "    box-shadow: none;\n",
              "  }\n",
              "\n",
              "  .colab-df-spinner {\n",
              "    border: 2px solid var(--fill-color);\n",
              "    border-color: transparent;\n",
              "    border-bottom-color: var(--fill-color);\n",
              "    animation:\n",
              "      spin 1s steps(1) infinite;\n",
              "  }\n",
              "\n",
              "  @keyframes spin {\n",
              "    0% {\n",
              "      border-color: transparent;\n",
              "      border-bottom-color: var(--fill-color);\n",
              "      border-left-color: var(--fill-color);\n",
              "    }\n",
              "    20% {\n",
              "      border-color: transparent;\n",
              "      border-left-color: var(--fill-color);\n",
              "      border-top-color: var(--fill-color);\n",
              "    }\n",
              "    30% {\n",
              "      border-color: transparent;\n",
              "      border-left-color: var(--fill-color);\n",
              "      border-top-color: var(--fill-color);\n",
              "      border-right-color: var(--fill-color);\n",
              "    }\n",
              "    40% {\n",
              "      border-color: transparent;\n",
              "      border-right-color: var(--fill-color);\n",
              "      border-top-color: var(--fill-color);\n",
              "    }\n",
              "    60% {\n",
              "      border-color: transparent;\n",
              "      border-right-color: var(--fill-color);\n",
              "    }\n",
              "    80% {\n",
              "      border-color: transparent;\n",
              "      border-right-color: var(--fill-color);\n",
              "      border-bottom-color: var(--fill-color);\n",
              "    }\n",
              "    90% {\n",
              "      border-color: transparent;\n",
              "      border-bottom-color: var(--fill-color);\n",
              "    }\n",
              "  }\n",
              "</style>\n",
              "\n",
              "  <script>\n",
              "    async function quickchart(key) {\n",
              "      const quickchartButtonEl =\n",
              "        document.querySelector('#' + key + ' button');\n",
              "      quickchartButtonEl.disabled = true;  // To prevent multiple clicks.\n",
              "      quickchartButtonEl.classList.add('colab-df-spinner');\n",
              "      try {\n",
              "        const charts = await google.colab.kernel.invokeFunction(\n",
              "            'suggestCharts', [key], {});\n",
              "      } catch (error) {\n",
              "        console.error('Error during call to suggestCharts:', error);\n",
              "      }\n",
              "      quickchartButtonEl.classList.remove('colab-df-spinner');\n",
              "      quickchartButtonEl.classList.add('colab-df-quickchart-complete');\n",
              "    }\n",
              "    (() => {\n",
              "      let quickchartButtonEl =\n",
              "        document.querySelector('#df-00e76571-faaa-4f0e-b641-11e72bf1eeaa button');\n",
              "      quickchartButtonEl.style.display =\n",
              "        google.colab.kernel.accessAllowed ? 'block' : 'none';\n",
              "    })();\n",
              "  </script>\n",
              "</div>\n",
              "\n",
              "    </div>\n",
              "  </div>\n"
            ],
            "application/vnd.google.colaboratory.intrinsic+json": {
              "type": "dataframe",
              "variable_name": "dt",
              "summary": "{\n  \"name\": \"dt\",\n  \"rows\": 22,\n  \"fields\": [\n    {\n      \"column\": \"Wilayah\",\n      \"properties\": {\n        \"dtype\": \"string\",\n        \"num_unique_values\": 22,\n        \"samples\": [\n          \"Sumba Barat\",\n          \"Rote Ndao\",\n          \"Flores Timur\"\n        ],\n        \"semantic_type\": \"\",\n        \"description\": \"\"\n      }\n    },\n    {\n      \"column\": \"PPM\",\n      \"properties\": {\n        \"dtype\": \"number\",\n        \"std\": 6.764347538310522,\n        \"min\": 8.61,\n        \"max\": 31.78,\n        \"num_unique_values\": 22,\n        \"samples\": [\n          27.17,\n          27.05,\n          11.77\n        ],\n        \"semantic_type\": \"\",\n        \"description\": \"\"\n      }\n    },\n    {\n      \"column\": \"IPM\",\n      \"properties\": {\n        \"dtype\": \"number\",\n        \"std\": 4.0359307492803955,\n        \"min\": 58.89,\n        \"max\": 80.62,\n        \"num_unique_values\": 22,\n        \"samples\": [\n          65.22,\n          64.0,\n          65.79\n        ],\n        \"semantic_type\": \"\",\n        \"description\": \"\"\n      }\n    },\n    {\n      \"column\": \"RLS\",\n      \"properties\": {\n        \"dtype\": \"number\",\n        \"std\": 1.0480619095424497,\n        \"min\": 6.38,\n        \"max\": 11.62,\n        \"num_unique_values\": 21,\n        \"samples\": [\n          6.92,\n          8.14,\n          7.0\n        ],\n        \"semantic_type\": \"\",\n        \"description\": \"\"\n      }\n    },\n    {\n      \"column\": \"JP\",\n      \"properties\": {\n        \"dtype\": \"number\",\n        \"std\": 105960,\n        \"min\": 90521,\n        \"max\": 474521,\n        \"num_unique_values\": 22,\n        \"samples\": [\n          152414,\n          150521,\n          288310\n        ],\n        \"semantic_type\": \"\",\n        \"description\": \"\"\n      }\n    },\n    {\n      \"column\": \"PBH\",\n      \"properties\": {\n        \"dtype\": \"number\",\n        \"std\": 3.6260193968960874,\n        \"min\": 0.76,\n        \"max\": 13.39,\n        \"num_unique_values\": 22,\n        \"samples\": [\n          11.9,\n          3.9,\n          3.69\n        ],\n        \"semantic_type\": \"\",\n        \"description\": \"\"\n      }\n    },\n    {\n      \"column\": \"TBS\",\n      \"properties\": {\n        \"dtype\": \"number\",\n        \"std\": 0.3536684680338145,\n        \"min\": 0.0,\n        \"max\": 1.2,\n        \"num_unique_values\": 20,\n        \"samples\": [\n          0.39,\n          0.18,\n          0.87\n        ],\n        \"semantic_type\": \"\",\n        \"description\": \"\"\n      }\n    },\n    {\n      \"column\": \"ASL\",\n      \"properties\": {\n        \"dtype\": \"number\",\n        \"std\": 13.391926042092793,\n        \"min\": 48.22,\n        \"max\": 93.03,\n        \"num_unique_values\": 22,\n        \"samples\": [\n          58.83,\n          84.92,\n          93.03\n        ],\n        \"semantic_type\": \"\",\n        \"description\": \"\"\n      }\n    },\n    {\n      \"column\": \"TPT\",\n      \"properties\": {\n        \"dtype\": \"number\",\n        \"std\": 1.0981043287789722,\n        \"min\": 1.63,\n        \"max\": 5.69,\n        \"num_unique_values\": 22,\n        \"samples\": [\n          3.52,\n          3.65,\n          3.79\n        ],\n        \"semantic_type\": \"\",\n        \"description\": \"\"\n      }\n    },\n    {\n      \"column\": \"PDRB\",\n      \"properties\": {\n        \"dtype\": \"number\",\n        \"std\": 6298,\n        \"min\": 7706,\n        \"max\": 38169,\n        \"num_unique_values\": 21,\n        \"samples\": [\n          10199,\n          9003,\n          8943\n        ],\n        \"semantic_type\": \"\",\n        \"description\": \"\"\n      }\n    },\n    {\n      \"column\": \"JSM\",\n      \"properties\": {\n        \"dtype\": \"number\",\n        \"std\": 47126,\n        \"min\": 3889,\n        \"max\": 237432,\n        \"num_unique_values\": 22,\n        \"samples\": [\n          12696,\n          15677,\n          35172\n        ],\n        \"semantic_type\": \"\",\n        \"description\": \"\"\n      }\n    },\n    {\n      \"column\": \"UHH\",\n      \"properties\": {\n        \"dtype\": \"number\",\n        \"std\": 2.1561504196216523,\n        \"min\": 61.06,\n        \"max\": 70.52,\n        \"num_unique_values\": 22,\n        \"samples\": [\n          67.57,\n          65.6,\n          65.96\n        ],\n        \"semantic_type\": \"\",\n        \"description\": \"\"\n      }\n    },\n    {\n      \"column\": \"LLR\",\n      \"properties\": {\n        \"dtype\": \"number\",\n        \"std\": 3.04723055728707,\n        \"min\": 0.05,\n        \"max\": 14.79,\n        \"num_unique_values\": 21,\n        \"samples\": [\n          3.93,\n          2.05,\n          0.68\n        ],\n        \"semantic_type\": \"\",\n        \"description\": \"\"\n      }\n    },\n    {\n      \"column\": \"PKB\",\n      \"properties\": {\n        \"dtype\": \"number\",\n        \"std\": 17.829808034453272,\n        \"min\": 4.29,\n        \"max\": 93.27,\n        \"num_unique_values\": 21,\n        \"samples\": [\n          82.84,\n          93.27,\n          89.28\n        ],\n        \"semantic_type\": \"\",\n        \"description\": \"\"\n      }\n    }\n  ]\n}"
            }
          },
          "metadata": {},
          "execution_count": 3
        }
      ]
    },
    {
      "cell_type": "code",
      "source": [
        "y = dt['IPM']\n",
        "x = dt['PKB']\n",
        "n = len(dt)"
      ],
      "metadata": {
        "id": "dOtvaf-BGe4D"
      },
      "execution_count": 4,
      "outputs": []
    },
    {
      "cell_type": "code",
      "source": [
        "dt = pd.DataFrame({'y': y, 'x': x})\n",
        "dt.head()"
      ],
      "metadata": {
        "colab": {
          "base_uri": "https://localhost:8080/",
          "height": 206
        },
        "id": "CqdTyb2DGsc0",
        "outputId": "aa1244d6-3a72-4e5d-d817-109c88ec0e92"
      },
      "execution_count": 5,
      "outputs": [
        {
          "output_type": "execute_result",
          "data": {
            "text/plain": [
              "       y      x\n",
              "0  65.22  82.84\n",
              "1  67.05  68.79\n",
              "2  65.82  72.78\n",
              "3  63.58  83.83\n",
              "4  65.16  77.65"
            ],
            "text/html": [
              "\n",
              "  <div id=\"df-1bfa94ce-f6f0-4d95-babb-525c0f79d838\" class=\"colab-df-container\">\n",
              "    <div>\n",
              "<style scoped>\n",
              "    .dataframe tbody tr th:only-of-type {\n",
              "        vertical-align: middle;\n",
              "    }\n",
              "\n",
              "    .dataframe tbody tr th {\n",
              "        vertical-align: top;\n",
              "    }\n",
              "\n",
              "    .dataframe thead th {\n",
              "        text-align: right;\n",
              "    }\n",
              "</style>\n",
              "<table border=\"1\" class=\"dataframe\">\n",
              "  <thead>\n",
              "    <tr style=\"text-align: right;\">\n",
              "      <th></th>\n",
              "      <th>y</th>\n",
              "      <th>x</th>\n",
              "    </tr>\n",
              "  </thead>\n",
              "  <tbody>\n",
              "    <tr>\n",
              "      <th>0</th>\n",
              "      <td>65.22</td>\n",
              "      <td>82.84</td>\n",
              "    </tr>\n",
              "    <tr>\n",
              "      <th>1</th>\n",
              "      <td>67.05</td>\n",
              "      <td>68.79</td>\n",
              "    </tr>\n",
              "    <tr>\n",
              "      <th>2</th>\n",
              "      <td>65.82</td>\n",
              "      <td>72.78</td>\n",
              "    </tr>\n",
              "    <tr>\n",
              "      <th>3</th>\n",
              "      <td>63.58</td>\n",
              "      <td>83.83</td>\n",
              "    </tr>\n",
              "    <tr>\n",
              "      <th>4</th>\n",
              "      <td>65.16</td>\n",
              "      <td>77.65</td>\n",
              "    </tr>\n",
              "  </tbody>\n",
              "</table>\n",
              "</div>\n",
              "    <div class=\"colab-df-buttons\">\n",
              "\n",
              "  <div class=\"colab-df-container\">\n",
              "    <button class=\"colab-df-convert\" onclick=\"convertToInteractive('df-1bfa94ce-f6f0-4d95-babb-525c0f79d838')\"\n",
              "            title=\"Convert this dataframe to an interactive table.\"\n",
              "            style=\"display:none;\">\n",
              "\n",
              "  <svg xmlns=\"http://www.w3.org/2000/svg\" height=\"24px\" viewBox=\"0 -960 960 960\">\n",
              "    <path d=\"M120-120v-720h720v720H120Zm60-500h600v-160H180v160Zm220 220h160v-160H400v160Zm0 220h160v-160H400v160ZM180-400h160v-160H180v160Zm440 0h160v-160H620v160ZM180-180h160v-160H180v160Zm440 0h160v-160H620v160Z\"/>\n",
              "  </svg>\n",
              "    </button>\n",
              "\n",
              "  <style>\n",
              "    .colab-df-container {\n",
              "      display:flex;\n",
              "      gap: 12px;\n",
              "    }\n",
              "\n",
              "    .colab-df-convert {\n",
              "      background-color: #E8F0FE;\n",
              "      border: none;\n",
              "      border-radius: 50%;\n",
              "      cursor: pointer;\n",
              "      display: none;\n",
              "      fill: #1967D2;\n",
              "      height: 32px;\n",
              "      padding: 0 0 0 0;\n",
              "      width: 32px;\n",
              "    }\n",
              "\n",
              "    .colab-df-convert:hover {\n",
              "      background-color: #E2EBFA;\n",
              "      box-shadow: 0px 1px 2px rgba(60, 64, 67, 0.3), 0px 1px 3px 1px rgba(60, 64, 67, 0.15);\n",
              "      fill: #174EA6;\n",
              "    }\n",
              "\n",
              "    .colab-df-buttons div {\n",
              "      margin-bottom: 4px;\n",
              "    }\n",
              "\n",
              "    [theme=dark] .colab-df-convert {\n",
              "      background-color: #3B4455;\n",
              "      fill: #D2E3FC;\n",
              "    }\n",
              "\n",
              "    [theme=dark] .colab-df-convert:hover {\n",
              "      background-color: #434B5C;\n",
              "      box-shadow: 0px 1px 3px 1px rgba(0, 0, 0, 0.15);\n",
              "      filter: drop-shadow(0px 1px 2px rgba(0, 0, 0, 0.3));\n",
              "      fill: #FFFFFF;\n",
              "    }\n",
              "  </style>\n",
              "\n",
              "    <script>\n",
              "      const buttonEl =\n",
              "        document.querySelector('#df-1bfa94ce-f6f0-4d95-babb-525c0f79d838 button.colab-df-convert');\n",
              "      buttonEl.style.display =\n",
              "        google.colab.kernel.accessAllowed ? 'block' : 'none';\n",
              "\n",
              "      async function convertToInteractive(key) {\n",
              "        const element = document.querySelector('#df-1bfa94ce-f6f0-4d95-babb-525c0f79d838');\n",
              "        const dataTable =\n",
              "          await google.colab.kernel.invokeFunction('convertToInteractive',\n",
              "                                                    [key], {});\n",
              "        if (!dataTable) return;\n",
              "\n",
              "        const docLinkHtml = 'Like what you see? Visit the ' +\n",
              "          '<a target=\"_blank\" href=https://colab.research.google.com/notebooks/data_table.ipynb>data table notebook</a>'\n",
              "          + ' to learn more about interactive tables.';\n",
              "        element.innerHTML = '';\n",
              "        dataTable['output_type'] = 'display_data';\n",
              "        await google.colab.output.renderOutput(dataTable, element);\n",
              "        const docLink = document.createElement('div');\n",
              "        docLink.innerHTML = docLinkHtml;\n",
              "        element.appendChild(docLink);\n",
              "      }\n",
              "    </script>\n",
              "  </div>\n",
              "\n",
              "\n",
              "<div id=\"df-97ea462a-cd23-40f3-90ef-9ed9f87f52c1\">\n",
              "  <button class=\"colab-df-quickchart\" onclick=\"quickchart('df-97ea462a-cd23-40f3-90ef-9ed9f87f52c1')\"\n",
              "            title=\"Suggest charts\"\n",
              "            style=\"display:none;\">\n",
              "\n",
              "<svg xmlns=\"http://www.w3.org/2000/svg\" height=\"24px\"viewBox=\"0 0 24 24\"\n",
              "     width=\"24px\">\n",
              "    <g>\n",
              "        <path d=\"M19 3H5c-1.1 0-2 .9-2 2v14c0 1.1.9 2 2 2h14c1.1 0 2-.9 2-2V5c0-1.1-.9-2-2-2zM9 17H7v-7h2v7zm4 0h-2V7h2v10zm4 0h-2v-4h2v4z\"/>\n",
              "    </g>\n",
              "</svg>\n",
              "  </button>\n",
              "\n",
              "<style>\n",
              "  .colab-df-quickchart {\n",
              "      --bg-color: #E8F0FE;\n",
              "      --fill-color: #1967D2;\n",
              "      --hover-bg-color: #E2EBFA;\n",
              "      --hover-fill-color: #174EA6;\n",
              "      --disabled-fill-color: #AAA;\n",
              "      --disabled-bg-color: #DDD;\n",
              "  }\n",
              "\n",
              "  [theme=dark] .colab-df-quickchart {\n",
              "      --bg-color: #3B4455;\n",
              "      --fill-color: #D2E3FC;\n",
              "      --hover-bg-color: #434B5C;\n",
              "      --hover-fill-color: #FFFFFF;\n",
              "      --disabled-bg-color: #3B4455;\n",
              "      --disabled-fill-color: #666;\n",
              "  }\n",
              "\n",
              "  .colab-df-quickchart {\n",
              "    background-color: var(--bg-color);\n",
              "    border: none;\n",
              "    border-radius: 50%;\n",
              "    cursor: pointer;\n",
              "    display: none;\n",
              "    fill: var(--fill-color);\n",
              "    height: 32px;\n",
              "    padding: 0;\n",
              "    width: 32px;\n",
              "  }\n",
              "\n",
              "  .colab-df-quickchart:hover {\n",
              "    background-color: var(--hover-bg-color);\n",
              "    box-shadow: 0 1px 2px rgba(60, 64, 67, 0.3), 0 1px 3px 1px rgba(60, 64, 67, 0.15);\n",
              "    fill: var(--button-hover-fill-color);\n",
              "  }\n",
              "\n",
              "  .colab-df-quickchart-complete:disabled,\n",
              "  .colab-df-quickchart-complete:disabled:hover {\n",
              "    background-color: var(--disabled-bg-color);\n",
              "    fill: var(--disabled-fill-color);\n",
              "    box-shadow: none;\n",
              "  }\n",
              "\n",
              "  .colab-df-spinner {\n",
              "    border: 2px solid var(--fill-color);\n",
              "    border-color: transparent;\n",
              "    border-bottom-color: var(--fill-color);\n",
              "    animation:\n",
              "      spin 1s steps(1) infinite;\n",
              "  }\n",
              "\n",
              "  @keyframes spin {\n",
              "    0% {\n",
              "      border-color: transparent;\n",
              "      border-bottom-color: var(--fill-color);\n",
              "      border-left-color: var(--fill-color);\n",
              "    }\n",
              "    20% {\n",
              "      border-color: transparent;\n",
              "      border-left-color: var(--fill-color);\n",
              "      border-top-color: var(--fill-color);\n",
              "    }\n",
              "    30% {\n",
              "      border-color: transparent;\n",
              "      border-left-color: var(--fill-color);\n",
              "      border-top-color: var(--fill-color);\n",
              "      border-right-color: var(--fill-color);\n",
              "    }\n",
              "    40% {\n",
              "      border-color: transparent;\n",
              "      border-right-color: var(--fill-color);\n",
              "      border-top-color: var(--fill-color);\n",
              "    }\n",
              "    60% {\n",
              "      border-color: transparent;\n",
              "      border-right-color: var(--fill-color);\n",
              "    }\n",
              "    80% {\n",
              "      border-color: transparent;\n",
              "      border-right-color: var(--fill-color);\n",
              "      border-bottom-color: var(--fill-color);\n",
              "    }\n",
              "    90% {\n",
              "      border-color: transparent;\n",
              "      border-bottom-color: var(--fill-color);\n",
              "    }\n",
              "  }\n",
              "</style>\n",
              "\n",
              "  <script>\n",
              "    async function quickchart(key) {\n",
              "      const quickchartButtonEl =\n",
              "        document.querySelector('#' + key + ' button');\n",
              "      quickchartButtonEl.disabled = true;  // To prevent multiple clicks.\n",
              "      quickchartButtonEl.classList.add('colab-df-spinner');\n",
              "      try {\n",
              "        const charts = await google.colab.kernel.invokeFunction(\n",
              "            'suggestCharts', [key], {});\n",
              "      } catch (error) {\n",
              "        console.error('Error during call to suggestCharts:', error);\n",
              "      }\n",
              "      quickchartButtonEl.classList.remove('colab-df-spinner');\n",
              "      quickchartButtonEl.classList.add('colab-df-quickchart-complete');\n",
              "    }\n",
              "    (() => {\n",
              "      let quickchartButtonEl =\n",
              "        document.querySelector('#df-97ea462a-cd23-40f3-90ef-9ed9f87f52c1 button');\n",
              "      quickchartButtonEl.style.display =\n",
              "        google.colab.kernel.accessAllowed ? 'block' : 'none';\n",
              "    })();\n",
              "  </script>\n",
              "</div>\n",
              "\n",
              "    </div>\n",
              "  </div>\n"
            ],
            "application/vnd.google.colaboratory.intrinsic+json": {
              "type": "dataframe",
              "variable_name": "dt",
              "summary": "{\n  \"name\": \"dt\",\n  \"rows\": 22,\n  \"fields\": [\n    {\n      \"column\": \"y\",\n      \"properties\": {\n        \"dtype\": \"number\",\n        \"std\": 4.0359307492803955,\n        \"min\": 58.89,\n        \"max\": 80.62,\n        \"num_unique_values\": 22,\n        \"samples\": [\n          65.22,\n          64.0,\n          65.79\n        ],\n        \"semantic_type\": \"\",\n        \"description\": \"\"\n      }\n    },\n    {\n      \"column\": \"x\",\n      \"properties\": {\n        \"dtype\": \"number\",\n        \"std\": 17.829808034453272,\n        \"min\": 4.29,\n        \"max\": 93.27,\n        \"num_unique_values\": 21,\n        \"samples\": [\n          82.84,\n          93.27,\n          89.28\n        ],\n        \"semantic_type\": \"\",\n        \"description\": \"\"\n      }\n    }\n  ]\n}"
            }
          },
          "metadata": {},
          "execution_count": 5
        }
      ]
    },
    {
      "cell_type": "markdown",
      "source": [
        "# **3. Model**"
      ],
      "metadata": {
        "id": "Rwx2a0bAG3xn"
      }
    },
    {
      "cell_type": "code",
      "source": [
        "model = smf.ols('y ~ x', data=dt).fit()\n",
        "\n",
        "print(model.summary())"
      ],
      "metadata": {
        "colab": {
          "base_uri": "https://localhost:8080/"
        },
        "id": "N8-u_rCPGzLW",
        "outputId": "32d12e8d-4e94-482b-ca54-32f68ae0665e"
      },
      "execution_count": 10,
      "outputs": [
        {
          "output_type": "stream",
          "name": "stdout",
          "text": [
            "                            OLS Regression Results                            \n",
            "==============================================================================\n",
            "Dep. Variable:                      y   R-squared:                       0.719\n",
            "Model:                            OLS   Adj. R-squared:                  0.705\n",
            "Method:                 Least Squares   F-statistic:                     51.28\n",
            "Date:                Mon, 17 Feb 2025   Prob (F-statistic):           6.18e-07\n",
            "Time:                        11:25:34   Log-Likelihood:                -47.421\n",
            "No. Observations:                  22   AIC:                             98.84\n",
            "Df Residuals:                      20   BIC:                             101.0\n",
            "Df Model:                           1                                         \n",
            "Covariance Type:            nonrobust                                         \n",
            "==============================================================================\n",
            "                 coef    std err          t      P>|t|      [0.025      0.975]\n",
            "------------------------------------------------------------------------------\n",
            "Intercept     79.5716      1.992     39.951      0.000      75.417      83.726\n",
            "x             -0.1920      0.027     -7.161      0.000      -0.248      -0.136\n",
            "==============================================================================\n",
            "Omnibus:                        0.733   Durbin-Watson:                   1.504\n",
            "Prob(Omnibus):                  0.693   Jarque-Bera (JB):                0.272\n",
            "Skew:                          -0.272   Prob(JB):                        0.873\n",
            "Kurtosis:                       2.999   Cond. No.                         317.\n",
            "==============================================================================\n",
            "\n",
            "Notes:\n",
            "[1] Standard Errors assume that the covariance matrix of the errors is correctly specified.\n"
          ]
        }
      ]
    },
    {
      "cell_type": "markdown",
      "source": [
        "Berdasarkan perhitungan, didapat dugaan persamaan regresi linear sebagai berikut. Dugaan persamaan tersebut dapat pula disebut sebagai nilai harapan dari peubah respons Y (Indeks Pembangunan Manusia)\n",
        "$$\n",
        "E[\\hat{Y}]=\\hat{Y}=79.572-0.192X\n",
        "$$"
      ],
      "metadata": {
        "id": "Y2recO7_HJK_"
      }
    },
    {
      "cell_type": "markdown",
      "source": [
        "# **4. Penguraian Kergaman**"
      ],
      "metadata": {
        "id": "_d6yrYJ0H5qg"
      }
    },
    {
      "cell_type": "markdown",
      "source": [
        "Penguraian keragaman dugaan persamaan regresi linear dapat dilakukan terlebih dahulu secara eksploratif melalui visualisasi sebagai berikut. Dari scatter plot yang dihasilkan, dapat diamati dua persamaan garis, yaitu $\\hat{Y}$ sebagai nilai harapan Y sekaligus dugaan persamaan dan $\\bar{Y}$ sebagai rata-rata dari seluruh nilai $Y_i$ yang ada."
      ],
      "metadata": {
        "id": "sJvXA52wIHKu"
      }
    },
    {
      "cell_type": "code",
      "source": [
        "y_bar = np.mean(y)\n",
        "plt.scatter(dt['x'], dt['y'], label='Data')\n",
        "plt.plot(dt['x'], model.predict(x), color='red', label='Y_duga')\n",
        "plt.axhline(y=y_bar, color='blue', linestyle='--', label='Y_bar')\n",
        "plt.legend()\n",
        "plt.show()"
      ],
      "metadata": {
        "colab": {
          "base_uri": "https://localhost:8080/",
          "height": 430
        },
        "id": "hmaFK0nNHLnY",
        "outputId": "bd177e7a-6cd3-48eb-fb8e-ac34962e5f45"
      },
      "execution_count": 7,
      "outputs": [
        {
          "output_type": "display_data",
          "data": {
            "text/plain": [
              "<Figure size 640x480 with 1 Axes>"
            ],
            "image/png": "[encoded data removed]"
          },
          "metadata": {}
        }
      ]
    },
    {
      "cell_type": "markdown",
      "source": [
        "Dari scatter plot di atas, teramati adanya amatan yang menyimpang relatif terhadapn nilai harapannya. Penyimpangan amatan dari nilai harapannya inilah yang disebut sebagai galat. Keragaman dari galat tiap amatan ini dapat diurai berdasarkan garis dugaan persamaan $(\\hat{Y})$ dan garis rataan nilai resposnya $(\\bar{Y})$. Penguraian keragaman ini dapat dituliskan sebagai Jumlah Kuadrat Regresi (JKR), Jumlah Kuadrat Galat (JKG), dan Jumlah Kuadrat Total (JKT) dengan perhitungan sebagai berikut.\n",
        "\n",
        "$$\n",
        "JKR=\\sum_{i=1}^{n}{(\\hat{y_i}-\\bar{y})^2}; JKG=\\sum_{i=1}^{n}{(y_i-\\hat{y})^2};JKT=\\sum_{i=1}^{n}{(y_i-\\bar{y})^2}\n",
        "$$\n",
        "\n",
        "Hubungan antara ketiganya dapat pula dituliskan sebagai berikut.\n",
        "\n",
        "$$\n",
        "JKT=JKR+JKG\n",
        "$$\n",
        "\n",
        "Nilai penguraian keragaman ini dapat diamati pula menggunakan fungsi `anova` pada bagian **Sum Sq (Jumlah Kuadrat)** seperti yang ditampilkan di bawah. Pada output sintaks di bawah, JKR model bernilai 246.082 dan JKG model bernilai 95.982"
      ],
      "metadata": {
        "id": "ySmYTtkfIW2Y"
      }
    },
    {
      "cell_type": "code",
      "source": [
        "import statsmodels.formula.api as smf\n",
        "from statsmodels.stats.anova import anova_lm\n",
        "\n",
        "anova_table = anova_lm(model)\n",
        "print(anova_table)"
      ],
      "metadata": {
        "colab": {
          "base_uri": "https://localhost:8080/"
        },
        "id": "BmaF-n0wIZjK",
        "outputId": "875517f3-8793-4217-bc3d-2164164734af"
      },
      "execution_count": 11,
      "outputs": [
        {
          "output_type": "stream",
          "name": "stdout",
          "text": [
            "            df      sum_sq     mean_sq          F        PR(>F)\n",
            "x          1.0  246.081706  246.081706  51.276759  6.179026e-07\n",
            "Residual  20.0   95.981771    4.799089        NaN           NaN\n"
          ]
        }
      ]
    },
    {
      "cell_type": "markdown",
      "source": [
        "Dari tabel ANOVA dan penguraian keragaman, dapat diduga pula **ragam galat/error** dari model yang kita peroleh. Secara umum, error dari model dapat diduga oleh nilai Kuadrat Tengah Galat (KTG) sehingga berdasarkan output sintaks di atas, diketahui bahwa ragam galat dari model bernilai 4.799. Hubungan antara keduanya dapat dituliskan sebagai berikut.\n",
        "\n",
        "$$\n",
        "\\hat{\\sigma^2}=S_e^2=KTG=\\frac{JKG}{(n-2)}\n",
        "$$"
      ],
      "metadata": {
        "id": "WeHN_OM2qNvi"
      }
    },
    {
      "cell_type": "code",
      "source": [
        "KTG = anova_table['mean_sq']['Residual']\n",
        "print(f\"KTG: {KTG:.3f}\")"
      ],
      "metadata": {
        "colab": {
          "base_uri": "https://localhost:8080/"
        },
        "id": "KvpqopfkqO7e",
        "outputId": "a91fba24-c24b-42f1-bdb5-cb43f1ac6aee"
      },
      "execution_count": 19,
      "outputs": [
        {
          "output_type": "stream",
          "name": "stdout",
          "text": [
            "KTG: 4.799\n"
          ]
        }
      ]
    },
    {
      "cell_type": "markdown",
      "source": [
        "Dari nilai dugaan ragam galat di atas, dapat diduga pula nilai dugaan dari simpangan bakunya. Dugaan simpangan baku inilah yang disebut sebagai **galat baku**. Hubungan antara galat baku dan ragam galat dapat dituliskan sebagai berikut.\n",
        "\n",
        "$$\n",
        "s_e=\\sqrt{S_e^2}\n",
        "$$\n",
        "\n",
        "Oleh karena simpangan baku merupakan akar kuadrat dari ragam, maka nilai dugaan galat baku model yang kita bentuk adalah $S_e=\\sqrt{4.799}\\approx2.191$"
      ],
      "metadata": {
        "id": "rxPTonwqq7-C"
      }
    },
    {
      "cell_type": "code",
      "source": [
        "galat_baku = np.sqrt(KTG)\n",
        "print(f\"Galat Baku: {galat_baku:.3f}\")"
      ],
      "metadata": {
        "colab": {
          "base_uri": "https://localhost:8080/"
        },
        "id": "Mm6ylCVGq8w-",
        "outputId": "548f9785-9439-4d5d-c590-b2e1d56eb38b"
      },
      "execution_count": 20,
      "outputs": [
        {
          "output_type": "stream",
          "name": "stdout",
          "text": [
            "Galat Baku: 2.191\n"
          ]
        }
      ]
    },
    {
      "cell_type": "markdown",
      "source": [
        "# **5. Keragaman Dugaan Parameter**"
      ],
      "metadata": {
        "id": "D8N3zo8grBz8"
      }
    },
    {
      "cell_type": "markdown",
      "source": [
        "## **a. Dugaan Parameter B0**"
      ],
      "metadata": {
        "id": "8OS84s13rMdZ"
      }
    },
    {
      "cell_type": "markdown",
      "source": [
        "Sebelumnya, melalui fungsi `lm` dan perhitungan manual yang sudah dibahas pada pertemuan sebelumnya, kita sudah mendapatkan nilai dugaan parameter $\\beta_0$ dan $\\beta_1$ sebesar 79.572 dan -0.192. Kedua nilai dugaan parameter tersebut dapat kita definisikan sebagai berikut."
      ],
      "metadata": {
        "id": "6STUNgqTsO_m"
      }
    },
    {
      "cell_type": "code",
      "source": [
        "b0, b1 = model.params\n",
        "print(f\"b0: {b0:.3f}, b1: {b1:.3f}\")"
      ],
      "metadata": {
        "colab": {
          "base_uri": "https://localhost:8080/"
        },
        "id": "kXvdJaIoro5d",
        "outputId": "0937e487-bf0b-4200-bc59-cf35259ed1fb"
      },
      "execution_count": 21,
      "outputs": [
        {
          "output_type": "stream",
          "name": "stdout",
          "text": [
            "b0: 79.572, b1: -0.192\n"
          ]
        }
      ]
    },
    {
      "cell_type": "markdown",
      "source": [
        "Selanjutnya kita dapat menghitung nilai ragam dan t-hitung dari dugaan parameter $\\beta_0$ tersebut dengan perhitungan sebagai berikut.\n",
        "\n",
        "$$\n",
        "S_\\hat{\\beta_0}=\\sqrt{KTG(\\frac{1}{n}+\\frac{\\bar{x}^2}{\\sum_{i=1}^{n}{(x_i-\\bar{x})^2}})};t_h=\\frac{\\hat{\\beta_0}-\\beta_0}{S_\\hat{\\beta_0}}\n",
        "$$\n",
        "\n",
        "Nilai $S_\\hat{\\beta_0}$ dapat dihitung dengan sintaks sebagai berikut\n"
      ],
      "metadata": {
        "id": "pQim1fkFsok2"
      }
    },
    {
      "cell_type": "code",
      "source": [
        "se_b0 = np.sqrt(KTG * (1/n + np.mean(dt['x'])**2 / np.sum((dt['x'] - np.mean(dt['x']))**2)))\n",
        "print(f\"se_b0: {se_b0:.3f}\")"
      ],
      "metadata": {
        "colab": {
          "base_uri": "https://localhost:8080/"
        },
        "id": "-96x99d6spgu",
        "outputId": "f0362622-e4c2-488f-99e2-c1487af9dca7"
      },
      "execution_count": 27,
      "outputs": [
        {
          "output_type": "stream",
          "name": "stdout",
          "text": [
            "se_b0: 1.992\n"
          ]
        }
      ]
    },
    {
      "cell_type": "markdown",
      "source": [
        "Jika dalam uji hipotesis kita ingin menguji apakah $\\beta_0=0$, maka nilai $t_h$ dapat dihitung sebagai berikut."
      ],
      "metadata": {
        "id": "Qq7dQUCvtXrj"
      }
    },
    {
      "cell_type": "code",
      "source": [
        "t_b0 = b0 / se_b0\n",
        "print(f\"t_b0: {t_b0:.3f}\")"
      ],
      "metadata": {
        "colab": {
          "base_uri": "https://localhost:8080/"
        },
        "id": "5MY7i5d3tYbM",
        "outputId": "5631ea5f-0595-4263-9e2a-f320e4c82816"
      },
      "execution_count": 28,
      "outputs": [
        {
          "output_type": "stream",
          "name": "stdout",
          "text": [
            "t_b0: 39.951\n"
          ]
        }
      ]
    },
    {
      "cell_type": "markdown",
      "source": [
        "## **b. Dugaan Parameter B1**"
      ],
      "metadata": {
        "id": "W4dds9iPuL6d"
      }
    },
    {
      "cell_type": "markdown",
      "source": [
        "Sementara itu, ragam dan t-hitung dari dugaan parameter $\\beta_1$ dapat diperoleh dari perhitungan berikut.\n",
        "\n",
        "$$\n",
        "S_\\hat{\\beta_1}=\\sqrt{\\frac{KTG}{\\sum_{i=1}^{n}{(x_i-\\bar{x})^2}}};t_h=\\frac{\\hat{\\beta_1}-\\beta_1}{S_\\hat{\\beta_1}}\n",
        "$$\n",
        "\n",
        "Nilai $S_\\hat{\\beta_1}$ dapat dihitung dengan sintaks sebagai berikut"
      ],
      "metadata": {
        "id": "8rmck4aKuPTX"
      }
    },
    {
      "cell_type": "code",
      "source": [
        "se_b1 = np.sqrt(KTG / np.sum((dt['x'] - np.mean(dt['x']))**2))\n",
        "print(f\"se_b1: {se_b1:.3f}\")"
      ],
      "metadata": {
        "colab": {
          "base_uri": "https://localhost:8080/"
        },
        "id": "1ipWCWvOuQva",
        "outputId": "53bc4bee-613e-46c6-a158-4c07922666b8"
      },
      "execution_count": 29,
      "outputs": [
        {
          "output_type": "stream",
          "name": "stdout",
          "text": [
            "se_b1: 0.027\n"
          ]
        }
      ]
    },
    {
      "cell_type": "markdown",
      "source": [
        "Jika dalam uji hipotesis kita ingin menguji apakah $\\beta_1=0$, maka nilai $t_h$ dapat dihitung sebagai berikut."
      ],
      "metadata": {
        "id": "Ra5NqB-Uuc1E"
      }
    },
    {
      "cell_type": "code",
      "source": [
        "t_b1 = b1 / se_b1\n",
        "print(f\"t_b1: {t_b1:.3f}\")"
      ],
      "metadata": {
        "colab": {
          "base_uri": "https://localhost:8080/"
        },
        "id": "BJAR9bZTuilH",
        "outputId": "61e3b5e9-6c7e-4e5d-9190-29ef902386e8"
      },
      "execution_count": 30,
      "outputs": [
        {
          "output_type": "stream",
          "name": "stdout",
          "text": [
            "t_b1: -7.161\n"
          ]
        }
      ]
    },
    {
      "cell_type": "markdown",
      "source": [
        "## **c. Selang Kepercayaan Parameter**"
      ],
      "metadata": {
        "id": "u7c5E3aVu_6e"
      }
    },
    {
      "cell_type": "markdown",
      "source": [
        "Secara umum, kita dapat memahami bahwa selang kepercayaan untuk $\\hat{\\beta_0}$ dan $\\hat{\\beta_1}$ terdiri atas batas bawah dan batas atas yang dapat dituliskan sebagai berikut.\n",
        "\n",
        "$$\n",
        "\\hat{\\beta_0}-t_{(n-2;\\frac{\\alpha}{2})}<\\hat{\\beta_0}<\\hat{\\beta_0}+t_{(n-2;\\frac{\\alpha}{2})}\n",
        "$$\n",
        "\n",
        "$$\n",
        "\\hat{\\beta_1}-t_{(n-2;\\frac{\\alpha}{2})}<\\hat{\\beta_1}<\\hat{\\beta_1}+t_{(n-2;\\frac{\\alpha}{2})}\n",
        "$$\n",
        "\n",
        "Batas bawah untuk kedua dugaan parameter dalam taraf kepercayaan $\\alpha=0.05$ dapat dihitung sebagai berikut."
      ],
      "metadata": {
        "id": "4QXeED0WvEEf"
      }
    },
    {
      "cell_type": "code",
      "source": [
        "alpha = 0.05\n",
        "t_critical = abs(stats.t.ppf(alpha/2, df=n-2))\n",
        "\n",
        "bb_b0 = b0 - t_critical * se_b0\n",
        "ba_b0 = b0 + t_critical * se_b0\n",
        "\n",
        "bb_b1 = b1 - t_critical * se_b1\n",
        "ba_b1 = b1 + t_critical * se_b1\n",
        "\n",
        "print(f\"Selang kepercayaan Beta_0: ({bb_b0:.3f}, {ba_b0:.3f})\")\n",
        "print(f\"Selang kepercayaan Beta_1: ({bb_b1:.3f}, {ba_b1:.3f})\")"
      ],
      "metadata": {
        "colab": {
          "base_uri": "https://localhost:8080/"
        },
        "id": "8-rSZgwjvDZ-",
        "outputId": "e812b5d0-08cb-43f8-e0de-d40a6a07db9f"
      },
      "execution_count": 31,
      "outputs": [
        {
          "output_type": "stream",
          "name": "stdout",
          "text": [
            "Selang kepercayaan Beta_0: (75.417, 83.726)\n",
            "Selang kepercayaan Beta_1: (-0.248, -0.136)\n"
          ]
        }
      ]
    },
    {
      "cell_type": "markdown",
      "source": [
        "Sehingga dapat disusun suatu selang kepercayaan untuk $\\hat{\\beta_0}$ dan $\\hat{\\beta_1}$ sebagai berikut.\n",
        "\n",
        "$$\n",
        "75.465<\\hat{\\beta_0}<83.678\n",
        "$$\n",
        "\n",
        "Yang dapat dimaknai bahwa dalam taraf kepercayaan 95%, diyakini bahwa dugaan parameter $\\hat{\\beta_0}$ berada dalam selang 75.465 hingga 83.678.\n",
        "\n",
        "$$\n",
        "-0.247<\\hat{\\beta_1}<-0.136\n",
        "$$\n",
        "\n",
        "Yang dapat dimaknai bahwa dalam taraf kepercayaan 95%, diyakini bahwa dugaan parameter $\\hat{\\beta_1}$ berada dalam selang -0.247 hingga -0.136."
      ],
      "metadata": {
        "id": "eo56tLlSvfgB"
      }
    },
    {
      "cell_type": "markdown",
      "source": [
        "# **6. Selang Kepercayaan**"
      ],
      "metadata": {
        "id": "_crb6jgavmKI"
      }
    },
    {
      "cell_type": "markdown",
      "source": [
        "## **a. Bagi Nilai Rataan / Nilai Harapan Amatan**"
      ],
      "metadata": {
        "id": "5XCpI1lqvsg8"
      }
    },
    {
      "cell_type": "markdown",
      "source": [
        "Secara umum, kita dapat memahami bahwa selang kepercayaan untuk $E(\\hat{Y}|x_0)$ terdiri atas batas bawah dan batas atas yang dapat dituliskan sebagai berikut.\n",
        "\n",
        "$$\n",
        "E(\\hat{Y}|x_0)\\pm t_{(n-2;\\frac{\\alpha}{2})}S_e\\sqrt{(\\frac{1}{n}+\\frac{{(x_i-\\bar{x})^2}}{{\\sum_{i=1}^{n}{(x_i-\\bar{x})^2}}})}\n",
        "$$\n",
        "\n",
        "Misalkan kita ingin menduga nilai rataan (harapan) amatan ketika nilai $x=17$. Kita dapat memanfaatkan fungsi `predict` untuk mendapatkan nilai dugaan dan selang kepercayaannya sebagai berikut."
      ],
      "metadata": {
        "id": "ADYZLTg7vvff"
      }
    },
    {
      "cell_type": "code",
      "source": [
        "x_pred = pd.DataFrame({'x': [17]})\n",
        "x_pred = sm.add_constant(x_pred)\n",
        "prediction_conf = model.get_prediction(x_pred).summary_frame(alpha=0.05)\n",
        "\n",
        "print(\"Prediksi dengan Interval Kepercayaan:\")\n",
        "print(prediction_conf) #ambil yang mean"
      ],
      "metadata": {
        "colab": {
          "base_uri": "https://localhost:8080/"
        },
        "id": "6412DsPjvkpn",
        "outputId": "b2c01943-5aa7-4be4-a6d6-c69c21b49d51"
      },
      "execution_count": 32,
      "outputs": [
        {
          "output_type": "stream",
          "name": "stdout",
          "text": [
            "Prediksi dengan Interval Kepercayaan:\n",
            "        mean   mean_se  mean_ci_lower  mean_ci_upper  obs_ci_lower  \\\n",
            "0  76.307749  1.552344      73.069617      79.545882     70.707079   \n",
            "\n",
            "   obs_ci_upper  \n",
            "0     81.908419  \n"
          ]
        }
      ]
    },
    {
      "cell_type": "markdown",
      "source": [
        "Berdasarkan output sintaks di atas, diketahui bahwa dugaan rataan nilai $Y$ ketika nilai $x=17$ adalah 76.308. Selain itu, diindikasikan juga bahwa dalam taraf kepercayaan 95%, diyakini bahwa nilai dugaan rataan $Y$ ketika nilai $x=17$ berada dalam selang 73.070 hingga 79.546."
      ],
      "metadata": {
        "id": "sZ0kKA-Xv-9e"
      }
    },
    {
      "cell_type": "markdown",
      "source": [
        "## **b. Bagi Individu Amatan**"
      ],
      "metadata": {
        "id": "pout10XcwEql"
      }
    },
    {
      "cell_type": "markdown",
      "source": [
        "Secara umum, kita dapat memahami bahwa selang kepercayaan untuk $\\hat{y}(s_i)$ terdiri atas batas bawah dan batas atas yang dapat dituliskan sebagai berikut.\n",
        "\n",
        "$$\n",
        "\\hat{y}(x_i)\\pm t_{(n-2;\\frac{\\alpha}{2})}S_e\\sqrt{(1+\\frac{1}{n}+\\frac{{(x_i-\\bar{x})^2}}{{\\sum_{i=1}^{n}{(x_i-\\bar{x})^2}}})}\n",
        "$$\n",
        "\n",
        "Misalkan kita ingin menduga nilai individu amatan ketika nilai $x=17$. Kita dapat memanfaatkan fungsi `predict` untuk mendapatkan nilai dugaan dan selang kepercayaannya sebagai berikut."
      ],
      "metadata": {
        "id": "c7LzNarjwPsO"
      }
    },
    {
      "cell_type": "code",
      "source": [
        "print(\"Prediksi dengan Interval Individu:\")\n",
        "print(prediction_conf) #ambil yang obs"
      ],
      "metadata": {
        "colab": {
          "base_uri": "https://localhost:8080/"
        },
        "id": "lDjlLiDKwOv3",
        "outputId": "c8881205-79f7-4f61-83dc-92f3db042aa9"
      },
      "execution_count": 34,
      "outputs": [
        {
          "output_type": "stream",
          "name": "stdout",
          "text": [
            "Prediksi dengan Interval Individu:\n",
            "        mean   mean_se  mean_ci_lower  mean_ci_upper  obs_ci_lower  \\\n",
            "0  76.307749  1.552344      73.069617      79.545882     70.707079   \n",
            "\n",
            "   obs_ci_upper  \n",
            "0     81.908419  \n"
          ]
        }
      ]
    },
    {
      "cell_type": "markdown",
      "source": [
        "Berdasarkan output sintaks di atas, diketahui bahwa dugaan nilai individu $Y$ ketika nilai $x=17$ adalah 76.308. Selain itu, diindikasikan juga bahwa dalam taraf kepercayaan 95%, diyakini bahwa nilai amatan individu $Y$ ketika nilai $x=17$ berada dalam selang 70.707 hingga 81.908."
      ],
      "metadata": {
        "id": "GRWsFgbvwqFi"
      }
    }
  ]
}